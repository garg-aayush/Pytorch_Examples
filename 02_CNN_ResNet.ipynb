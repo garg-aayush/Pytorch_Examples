{
  "nbformat": 4,
  "nbformat_minor": 0,
  "metadata": {
    "colab": {
      "name": "02_CNN_ResNet.ipynb",
      "provenance": [],
      "collapsed_sections": [],
      "authorship_tag": "ABX9TyNpykScqxuoXJtDqzeiwB3H",
      "include_colab_link": true
    },
    "kernelspec": {
      "name": "python3",
      "display_name": "Python 3"
    },
    "accelerator": "GPU",
    "widgets": {
      "application/vnd.jupyter.widget-state+json": {
        "693947bdadaa4834afd42cb3b2881d24": {
          "model_module": "@jupyter-widgets/controls",
          "model_name": "HBoxModel",
          "state": {
            "_view_name": "HBoxView",
            "_dom_classes": [],
            "_model_name": "HBoxModel",
            "_view_module": "@jupyter-widgets/controls",
            "_model_module_version": "1.5.0",
            "_view_count": null,
            "_view_module_version": "1.5.0",
            "box_style": "",
            "layout": "IPY_MODEL_e724691b383546d2b10d6c81a46e572f",
            "_model_module": "@jupyter-widgets/controls",
            "children": [
              "IPY_MODEL_07c970d849a440b69634247c98d3624e",
              "IPY_MODEL_183de6490a2f4bd481d7ada68dd3c27a"
            ]
          }
        },
        "e724691b383546d2b10d6c81a46e572f": {
          "model_module": "@jupyter-widgets/base",
          "model_name": "LayoutModel",
          "state": {
            "_view_name": "LayoutView",
            "grid_template_rows": null,
            "right": null,
            "justify_content": null,
            "_view_module": "@jupyter-widgets/base",
            "overflow": null,
            "_model_module_version": "1.2.0",
            "_view_count": null,
            "flex_flow": null,
            "width": null,
            "min_width": null,
            "border": null,
            "align_items": null,
            "bottom": null,
            "_model_module": "@jupyter-widgets/base",
            "top": null,
            "grid_column": null,
            "overflow_y": null,
            "overflow_x": null,
            "grid_auto_flow": null,
            "grid_area": null,
            "grid_template_columns": null,
            "flex": null,
            "_model_name": "LayoutModel",
            "justify_items": null,
            "grid_row": null,
            "max_height": null,
            "align_content": null,
            "visibility": null,
            "align_self": null,
            "height": null,
            "min_height": null,
            "padding": null,
            "grid_auto_rows": null,
            "grid_gap": null,
            "max_width": null,
            "order": null,
            "_view_module_version": "1.2.0",
            "grid_template_areas": null,
            "object_position": null,
            "object_fit": null,
            "grid_auto_columns": null,
            "margin": null,
            "display": null,
            "left": null
          }
        },
        "07c970d849a440b69634247c98d3624e": {
          "model_module": "@jupyter-widgets/controls",
          "model_name": "IntProgressModel",
          "state": {
            "_view_name": "ProgressView",
            "style": "IPY_MODEL_f30d7a5c11d3403e92f622e50f1a8c66",
            "_dom_classes": [],
            "description": "",
            "_model_name": "IntProgressModel",
            "bar_style": "info",
            "max": 1,
            "_view_module": "@jupyter-widgets/controls",
            "_model_module_version": "1.5.0",
            "value": 1,
            "_view_count": null,
            "_view_module_version": "1.5.0",
            "orientation": "horizontal",
            "min": 0,
            "description_tooltip": null,
            "_model_module": "@jupyter-widgets/controls",
            "layout": "IPY_MODEL_c7399e38b1844873a9b42c495bafaeaf"
          }
        },
        "183de6490a2f4bd481d7ada68dd3c27a": {
          "model_module": "@jupyter-widgets/controls",
          "model_name": "HTMLModel",
          "state": {
            "_view_name": "HTMLView",
            "style": "IPY_MODEL_9e85ab66dc7c4aa39dbe957aee19e2c1",
            "_dom_classes": [],
            "description": "",
            "_model_name": "HTMLModel",
            "placeholder": "​",
            "_view_module": "@jupyter-widgets/controls",
            "_model_module_version": "1.5.0",
            "value": " 170500096/? [00:29&lt;00:00, 12827500.40it/s]",
            "_view_count": null,
            "_view_module_version": "1.5.0",
            "description_tooltip": null,
            "_model_module": "@jupyter-widgets/controls",
            "layout": "IPY_MODEL_f8ed0c4bfbc04515a0e91598474874e0"
          }
        },
        "f30d7a5c11d3403e92f622e50f1a8c66": {
          "model_module": "@jupyter-widgets/controls",
          "model_name": "ProgressStyleModel",
          "state": {
            "_view_name": "StyleView",
            "_model_name": "ProgressStyleModel",
            "description_width": "initial",
            "_view_module": "@jupyter-widgets/base",
            "_model_module_version": "1.5.0",
            "_view_count": null,
            "_view_module_version": "1.2.0",
            "bar_color": null,
            "_model_module": "@jupyter-widgets/controls"
          }
        },
        "c7399e38b1844873a9b42c495bafaeaf": {
          "model_module": "@jupyter-widgets/base",
          "model_name": "LayoutModel",
          "state": {
            "_view_name": "LayoutView",
            "grid_template_rows": null,
            "right": null,
            "justify_content": null,
            "_view_module": "@jupyter-widgets/base",
            "overflow": null,
            "_model_module_version": "1.2.0",
            "_view_count": null,
            "flex_flow": null,
            "width": null,
            "min_width": null,
            "border": null,
            "align_items": null,
            "bottom": null,
            "_model_module": "@jupyter-widgets/base",
            "top": null,
            "grid_column": null,
            "overflow_y": null,
            "overflow_x": null,
            "grid_auto_flow": null,
            "grid_area": null,
            "grid_template_columns": null,
            "flex": null,
            "_model_name": "LayoutModel",
            "justify_items": null,
            "grid_row": null,
            "max_height": null,
            "align_content": null,
            "visibility": null,
            "align_self": null,
            "height": null,
            "min_height": null,
            "padding": null,
            "grid_auto_rows": null,
            "grid_gap": null,
            "max_width": null,
            "order": null,
            "_view_module_version": "1.2.0",
            "grid_template_areas": null,
            "object_position": null,
            "object_fit": null,
            "grid_auto_columns": null,
            "margin": null,
            "display": null,
            "left": null
          }
        },
        "9e85ab66dc7c4aa39dbe957aee19e2c1": {
          "model_module": "@jupyter-widgets/controls",
          "model_name": "DescriptionStyleModel",
          "state": {
            "_view_name": "StyleView",
            "_model_name": "DescriptionStyleModel",
            "description_width": "",
            "_view_module": "@jupyter-widgets/base",
            "_model_module_version": "1.5.0",
            "_view_count": null,
            "_view_module_version": "1.2.0",
            "_model_module": "@jupyter-widgets/controls"
          }
        },
        "f8ed0c4bfbc04515a0e91598474874e0": {
          "model_module": "@jupyter-widgets/base",
          "model_name": "LayoutModel",
          "state": {
            "_view_name": "LayoutView",
            "grid_template_rows": null,
            "right": null,
            "justify_content": null,
            "_view_module": "@jupyter-widgets/base",
            "overflow": null,
            "_model_module_version": "1.2.0",
            "_view_count": null,
            "flex_flow": null,
            "width": null,
            "min_width": null,
            "border": null,
            "align_items": null,
            "bottom": null,
            "_model_module": "@jupyter-widgets/base",
            "top": null,
            "grid_column": null,
            "overflow_y": null,
            "overflow_x": null,
            "grid_auto_flow": null,
            "grid_area": null,
            "grid_template_columns": null,
            "flex": null,
            "_model_name": "LayoutModel",
            "justify_items": null,
            "grid_row": null,
            "max_height": null,
            "align_content": null,
            "visibility": null,
            "align_self": null,
            "height": null,
            "min_height": null,
            "padding": null,
            "grid_auto_rows": null,
            "grid_gap": null,
            "max_width": null,
            "order": null,
            "_view_module_version": "1.2.0",
            "grid_template_areas": null,
            "object_position": null,
            "object_fit": null,
            "grid_auto_columns": null,
            "margin": null,
            "display": null,
            "left": null
          }
        }
      }
    }
  },
  "cells": [
    {
      "cell_type": "markdown",
      "metadata": {
        "id": "view-in-github",
        "colab_type": "text"
      },
      "source": [
        "<a href=\"https://colab.research.google.com/github/garg-aayush/Pytorch_Examples/blob/master/02_CNN_ResNet.ipynb\" target=\"_parent\"><img src=\"https://colab.research.google.com/assets/colab-badge.svg\" alt=\"Open In Colab\"/></a>"
      ]
    },
    {
      "cell_type": "markdown",
      "metadata": {
        "id": "heSIFww3xTVq",
        "colab_type": "text"
      },
      "source": [
        "### **Example**: \n",
        "####Image classification using ResNets for [CIFAR-10 data](https://www.cs.toronto.edu/~kriz/cifar.html)"
      ]
    },
    {
      "cell_type": "markdown",
      "metadata": {
        "id": "EehYDyEMzHCQ",
        "colab_type": "text"
      },
      "source": [
        "##### Import the required modules "
      ]
    },
    {
      "cell_type": "code",
      "metadata": {
        "id": "fk-irlCWy9FN",
        "colab_type": "code",
        "outputId": "544c5043-2ec3-437f-bfbc-4a49fc74b323",
        "colab": {
          "base_uri": "https://localhost:8080/",
          "height": 221
        }
      },
      "source": [
        "import torch.nn as nn\n",
        "import torchvision\n",
        "import torchvision.transforms as transforms\n",
        "import torch\n",
        "\n",
        "# for plotting \n",
        "from random import sample\n",
        "import matplotlib.pyplot as plt\n",
        "%matplotlib inline\n",
        "\n",
        "# To visualize the network\n",
        "from torchsummary import summary\n",
        "!pip install torchviz #git+https://github.com/szagoruyko/pytorchviz\n",
        "from torchviz import make_dot"
      ],
      "execution_count": 2,
      "outputs": [
        {
          "output_type": "stream",
          "text": [
            "Collecting torchviz\n",
            "\u001b[?25l  Downloading https://files.pythonhosted.org/packages/8f/8e/a9630c7786b846d08b47714dd363a051f5e37b4ea0e534460d8cdfc1644b/torchviz-0.0.1.tar.gz (41kB)\n",
            "\r\u001b[K     |████████                        | 10kB 18.3MB/s eta 0:00:01\r\u001b[K     |████████████████                | 20kB 24.1MB/s eta 0:00:01\r\u001b[K     |███████████████████████▉        | 30kB 27.9MB/s eta 0:00:01\r\u001b[K     |███████████████████████████████▉| 40kB 31.1MB/s eta 0:00:01\r\u001b[K     |████████████████████████████████| 51kB 6.7MB/s \n",
            "\u001b[?25hRequirement already satisfied: torch in /usr/local/lib/python3.6/dist-packages (from torchviz) (1.4.0)\n",
            "Requirement already satisfied: graphviz in /usr/local/lib/python3.6/dist-packages (from torchviz) (0.10.1)\n",
            "Building wheels for collected packages: torchviz\n",
            "  Building wheel for torchviz (setup.py) ... \u001b[?25l\u001b[?25hdone\n",
            "  Created wheel for torchviz: filename=torchviz-0.0.1-cp36-none-any.whl size=3523 sha256=254e0f9638442918dc90bc73e3ecbb9f93274c0207c5f32ecf2b3885958d0b79\n",
            "  Stored in directory: /root/.cache/pip/wheels/2a/c2/c5/b8b4d0f7992c735f6db5bfa3c5f354cf36502037ca2b585667\n",
            "Successfully built torchviz\n",
            "Installing collected packages: torchviz\n",
            "Successfully installed torchviz-0.0.1\n"
          ],
          "name": "stdout"
        }
      ]
    },
    {
      "cell_type": "markdown",
      "metadata": {
        "id": "vI1qQlupzbk2",
        "colab_type": "text"
      },
      "source": [
        "##### Get the device configuration\n"
      ]
    },
    {
      "cell_type": "code",
      "metadata": {
        "id": "dwoJb3LIzi5Q",
        "colab_type": "code",
        "outputId": "7d8682e8-7f4d-44cb-df6d-a7d9a68481cd",
        "colab": {
          "base_uri": "https://localhost:8080/",
          "height": 34
        }
      },
      "source": [
        "device = torch.device('cuda' if torch.cuda.is_available() else 'cpu')\n",
        "print(device)"
      ],
      "execution_count": 3,
      "outputs": [
        {
          "output_type": "stream",
          "text": [
            "cuda\n"
          ],
          "name": "stdout"
        }
      ]
    },
    {
      "cell_type": "markdown",
      "metadata": {
        "colab_type": "text",
        "id": "lEcSn-xG0KOM"
      },
      "source": [
        "#### Check and mount the DATA and MODEL paths\n",
        "\n",
        "**NOTE**: make sure to mount the google drive\n",
        "\n"
      ]
    },
    {
      "cell_type": "code",
      "metadata": {
        "id": "bVbzMszmz1T3",
        "colab_type": "code",
        "colab": {}
      },
      "source": [
        "DATAPATH = '/content/drive/My Drive/DATASETS/'      # folder to save the CIFAR-10 dataset\n",
        "MODELPATH = '/content/drive/My Drive/MODELS/'       # folder to save the TRAINED MODEL"
      ],
      "execution_count": 0,
      "outputs": []
    },
    {
      "cell_type": "markdown",
      "metadata": {
        "id": "Kr_c_QXK1hBS",
        "colab_type": "text"
      },
      "source": [
        "#### Set the hyperparameters"
      ]
    },
    {
      "cell_type": "code",
      "metadata": {
        "id": "42qkST6O1kl4",
        "colab_type": "code",
        "colab": {}
      },
      "source": [
        "num_epochs = 80                  # number of times go through the data\n",
        "num_classes = 10                 # number of output classes (CIFAR-10: 10 image classes)\n",
        "batch_size = 100                  # number of input/output pairs to use for updating the weights (mini-batch approach)\n",
        "learning_rate = 0.001            # alpha :  w_new = w_old - alpha * dw"
      ],
      "execution_count": 0,
      "outputs": []
    },
    {
      "cell_type": "markdown",
      "metadata": {
        "id": "uwiMpohW1l1f",
        "colab_type": "text"
      },
      "source": [
        "#### Make a list of image transforms to apply to data"
      ]
    },
    {
      "cell_type": "code",
      "metadata": {
        "id": "NMLxV6Qp1sM6",
        "colab_type": "code",
        "colab": {}
      },
      "source": [
        "trans_train = transforms.Compose([transforms.Pad(4), \n",
        "                            transforms.RandomHorizontalFlip(), \n",
        "                            transforms.RandomCrop(32), \n",
        "                            transforms.ToTensor()])\n",
        "\n",
        "trans_test = transforms.Compose([transforms.ToTensor()])\n",
        "\n"
      ],
      "execution_count": 0,
      "outputs": []
    },
    {
      "cell_type": "markdown",
      "metadata": {
        "id": "37wtL7eK6jaT",
        "colab_type": "text"
      },
      "source": [
        "#### Load the CIFAR-10 datasets and Q.C. the data"
      ]
    },
    {
      "cell_type": "code",
      "metadata": {
        "id": "ZBTVDKYd4smF",
        "colab_type": "code",
        "outputId": "a5e35241-5ab3-4d86-be9e-9d3ec282b1d9",
        "colab": {
          "base_uri": "https://localhost:8080/",
          "height": 83,
          "referenced_widgets": [
            "693947bdadaa4834afd42cb3b2881d24",
            "e724691b383546d2b10d6c81a46e572f",
            "07c970d849a440b69634247c98d3624e",
            "183de6490a2f4bd481d7ada68dd3c27a",
            "f30d7a5c11d3403e92f622e50f1a8c66",
            "c7399e38b1844873a9b42c495bafaeaf",
            "9e85ab66dc7c4aa39dbe957aee19e2c1",
            "f8ed0c4bfbc04515a0e91598474874e0"
          ]
        }
      },
      "source": [
        "# Returns a tuple containing the input image and label\n",
        "train_dataset = torchvision.datasets.CIFAR10(DATAPATH, train=True, transform=trans_train, download=True)\n",
        "test_dataset = torchvision.datasets.CIFAR10(DATAPATH, train=False, transform=trans_test, download=False)"
      ],
      "execution_count": 7,
      "outputs": [
        {
          "output_type": "stream",
          "text": [
            "Downloading https://www.cs.toronto.edu/~kriz/cifar-10-python.tar.gz to /content/drive/My Drive/DATASETS/cifar-10-python.tar.gz\n"
          ],
          "name": "stdout"
        },
        {
          "output_type": "display_data",
          "data": {
            "application/vnd.jupyter.widget-view+json": {
              "model_id": "693947bdadaa4834afd42cb3b2881d24",
              "version_minor": 0,
              "version_major": 2
            },
            "text/plain": [
              "HBox(children=(IntProgress(value=1, bar_style='info', max=1), HTML(value='')))"
            ]
          },
          "metadata": {
            "tags": []
          }
        },
        {
          "output_type": "stream",
          "text": [
            "Extracting /content/drive/My Drive/DATASETS/cifar-10-python.tar.gz to /content/drive/My Drive/DATASETS/\n"
          ],
          "name": "stdout"
        }
      ]
    },
    {
      "cell_type": "code",
      "metadata": {
        "id": "nRZ5MFA95NE4",
        "colab_type": "code",
        "outputId": "f99eeca8-19a7-46a4-ba06-455364207f7c",
        "colab": {
          "base_uri": "https://localhost:8080/",
          "height": 370
        }
      },
      "source": [
        "# Check the dimensions of datasets and plot them \n",
        "print('Training examples : {}'.format(len(train_dataset)))\n",
        "print('Size : {}'.format(format(train_dataset[0][0].size())))\n",
        "print()\n",
        "print('Test examples : {}'.format(len(test_dataset)))\n",
        "print('Size : {}'.format(format(test_dataset[0][0].size())))\n",
        "print()\n",
        "\n",
        "# plot some training example\n",
        "rand_vec = sample(range(0, len(train_dataset)), 9)\n",
        "\n",
        "for i in range(len(rand_vec)):\n",
        "    # define subplot\n",
        "    plt.subplot(330 + 1 + i)\n",
        "    # remember to permute size (channels, height, width) --> (height, width, channels) for plotting\n",
        "    plt_case = train_dataset[rand_vec[i]][0].permute([1, 2, 0])\n",
        "    # plot raw pixel data\n",
        "    plt.imshow(plt_case)\n",
        "\n",
        "# show the figure\n",
        "plt.show()"
      ],
      "execution_count": 8,
      "outputs": [
        {
          "output_type": "stream",
          "text": [
            "Training examples : 50000\n",
            "Size : torch.Size([3, 32, 32])\n",
            "\n",
            "Test examples : 10000\n",
            "Size : torch.Size([3, 32, 32])\n",
            "\n"
          ],
          "name": "stdout"
        },
        {
          "output_type": "display_data",
          "data": {
            "image/png": "[encoded data removed]",
            "text/plain": [
              "<Figure size 432x288 with 9 Axes>"
            ]
          },
          "metadata": {
            "tags": [],
            "needs_background": "light"
          }
        }
      ]
    },
    {
      "cell_type": "code",
      "metadata": {
        "id": "yNpFqrggXRmL",
        "colab_type": "code",
        "colab": {}
      },
      "source": [
        "# Create the Dataloaders for training and testing\n",
        "train_loader = torch.utils.data.DataLoader(train_dataset, batch_size=batch_size, shuffle=True)\n",
        "test_loader = torch.utils.data.DataLoader(test_dataset, batch_size=batch_size, shuffle=False)\n"
      ],
      "execution_count": 0,
      "outputs": []
    },
    {
      "cell_type": "markdown",
      "metadata": {
        "id": "PLUxZy1B1tB-",
        "colab_type": "text"
      },
      "source": [
        "#### Make the network\n"
      ]
    },
    {
      "cell_type": "code",
      "metadata": {
        "id": "NVB9iZiBYkQT",
        "colab_type": "code",
        "colab": {}
      },
      "source": [
        "# Function to make a convolutional layer with 3X3 filter length\n",
        "# As we only use 3X3 filters for all CNN layers\n",
        "\n",
        "# see https://github.com/pytorch/vision/blob/master/torchvision/models/resnet.py\n",
        "def conv3X3(in_channels, out_channels, stride=1):\n",
        "  return nn.Conv2d(in_channels, out_channels, kernel_size=3, stride=stride, padding=1, bias=False)\n",
        "\n",
        "# Class for a residual block\n",
        "class ResidualBlock(nn.Module):\n",
        "\n",
        "  def __init__(self, in_channels, out_channels, stride=1, downsample=None):\n",
        "    super(ResidualBlock, self).__init__()\n",
        "\n",
        "    # Convolutions\n",
        "    self.conv1 = conv3X3(in_channels, out_channels, stride)\n",
        "    self.bn1 = nn.BatchNorm2d(out_channels)\n",
        "    self.relu = nn.ReLU(inplace=True)\n",
        "    self.conv2 = conv3X3(out_channels, out_channels)\n",
        "    self.bn2 = nn.BatchNorm2d(out_channels)\n",
        "    self.downsample = downsample\n",
        "  \n",
        "  def forward(self, x):\n",
        "    residual = x\n",
        "\n",
        "    out = self.conv1(x)\n",
        "    out = self.bn1(out)\n",
        "    out = self.relu(out)\n",
        "    out = self.conv2(out)\n",
        "    out = self.bn2(out)\n",
        "    \n",
        "    if self.downsample :\n",
        "      residual = self.downsample(x)\n",
        "    out += residual\n",
        "    \n",
        "    out = self.relu(out)\n",
        "    \n",
        "    return out  \n",
        "\n"
      ],
      "execution_count": 0,
      "outputs": []
    },
    {
      "cell_type": "markdown",
      "metadata": {
        "id": "ip8DgvaaD53j",
        "colab_type": "text"
      },
      "source": [
        "#### Q.C the residual block"
      ]
    },
    {
      "cell_type": "code",
      "metadata": {
        "id": "lUCOqw2NB4b-",
        "colab_type": "code",
        "colab": {}
      },
      "source": [
        "# 1. when number of input and output channels are same\n",
        "qc_toggle = 0\n",
        "if qc_toggle == 1:\n",
        "  \n",
        "  # print te model summary (Not exactly great)\n",
        "  temp_block = ResidualBlock(16,16)\n",
        "  print(temp_block)\n",
        "  print()\n",
        "\n",
        "  # Slightly better summary, however not good to visualize skip connections\n",
        "  summary(temp_block, input_size=(16,32,32))\n",
        "  print()\n",
        "\n",
        "  # Use make_dot from torcviz to visualize the graph\n",
        "  temp_x = torch.randn(1, 16, 32, 32).requires_grad_(True)\n",
        "  temp_y = temp_block(temp_x)\n",
        "  make_dot(temp_y, params=dict(list(temp_block.named_parameters()) + [('x', temp_x)]))"
      ],
      "execution_count": 0,
      "outputs": []
    },
    {
      "cell_type": "code",
      "metadata": {
        "id": "r0pUSB1cEPKf",
        "colab_type": "code",
        "colab": {}
      },
      "source": [
        "# 2. when number of input and output channels are different \n",
        "qc_toggle = 0\n",
        "if qc_toggle == 1:\n",
        "\n",
        "  # print te model summary (Not exactly great)\n",
        "  temp_block = ResidualBlock(16,32, stride=2, downsample=nn.Sequential(conv3X3(16,32,stride=2), nn.BatchNorm2d(32)))\n",
        "  print(temp_block)\n",
        "  print()\n",
        "\n",
        "  # Slightly better summary, however not good to visualize skip connections\n",
        "  summary(temp_block, input_size=(16,32,32))\n",
        "  print()\n",
        "\n",
        "  # Use make_dot from torcviz to visualize the graph\n",
        "  temp_x = torch.randn(1, 16, 32, 32).requires_grad_(True)\n",
        "  temp_y = temp_block(temp_x)\n",
        "  make_dot(temp_y, params=dict(list(temp_block.named_parameters()) + [('x', temp_x)]))"
      ],
      "execution_count": 0,
      "outputs": []
    },
    {
      "cell_type": "markdown",
      "metadata": {
        "id": "SZqyiSboxU1Q",
        "colab_type": "text"
      },
      "source": [
        "#### Instantiate te ResNet"
      ]
    },
    {
      "cell_type": "code",
      "metadata": {
        "id": "SOqRmQNHxTt2",
        "colab_type": "code",
        "colab": {}
      },
      "source": [
        "\n",
        "# Class for the ResNet\n",
        "class ResNet(nn.Module):\n",
        "  def __init__(self, block, layers, num_classes = 10):\n",
        "    super(ResNet, self).__init__()\n",
        "\n",
        "    self.in_channels = 16\n",
        "    self.conv = conv3X3(in_channels=3, out_channels=16)\n",
        "    self.bn = nn.BatchNorm2d(num_features=16)\n",
        "    self.relu = nn.ReLU(inplace=True)\n",
        "\n",
        "    self.layer1 = self.make_layer(block, 16, layers[0])\n",
        "    self.layer2 = self.make_layer(block, 32, layers[1], 2)\n",
        "    self.layer3 = self.make_layer(block, 64, layers[2], 2)\n",
        "\n",
        "    self.avgpool = nn.AvgPool2d(8)\n",
        "    self.fc = nn.Linear(64, num_classes)\n",
        "    \n",
        "  def make_layer(self, block, out_channels, blocks, stride=1):\n",
        "    # Create the downsample layer if conditions are met\n",
        "    downsample = None\n",
        "    if (stride != 1) or (self.in_channels != out_channels):\n",
        "      downsample = nn.Sequential(conv3X3(self.in_channels, out_channels, stride=stride),\n",
        "                                 nn.BatchNorm2d(out_channels))\n",
        "    \n",
        "    # Make all the layers \n",
        "    layers = []\n",
        "    layers.append(block(self.in_channels, out_channels, stride, downsample))\n",
        "    self.in_channels = out_channels\n",
        "    for i in range(1, blocks):\n",
        "      layers.append(block(out_channels, out_channels))\n",
        "\n",
        "    return nn.Sequential(*layers)\n",
        "\n",
        "  def forward(self, x):\n",
        "    out = self.conv(x)\n",
        "    out = self.bn(out)\n",
        "    out = self.relu(out)\n",
        "    out = self.layer1(out)\n",
        "    out = self.layer2(out)\n",
        "    out = self.layer3(out)\n",
        "    out = self.avgpool(out)\n",
        "    out = out.view(out.size(0), -1)\n",
        "    out = self.fc(out)\n",
        "\n",
        "    return out"
      ],
      "execution_count": 0,
      "outputs": []
    },
    {
      "cell_type": "code",
      "metadata": {
        "id": "sE44p_5BzkKr",
        "colab_type": "code",
        "colab": {}
      },
      "source": [
        "# Create the network instance\n",
        "model = ResNet(ResidualBlock, [2, 2, 2]).to(device)"
      ],
      "execution_count": 0,
      "outputs": []
    },
    {
      "cell_type": "markdown",
      "metadata": {
        "id": "I9q50Qh7FBrb",
        "colab_type": "text"
      },
      "source": [
        "#### Q.C. the ResNet\n"
      ]
    },
    {
      "cell_type": "code",
      "metadata": {
        "id": "UgoE83khFHzg",
        "colab_type": "code",
        "colab": {}
      },
      "source": [
        "# ONLY RUN this cell to Q.C. th NETWORK\n",
        "qc_toggle = 0\n",
        "if qc_toggle == 1:\n",
        "  # print te model summary (Not exactly great)\n",
        "  print(model)\n",
        "  print()\n",
        "\n",
        "  # Slightly better summary, however not good to visualize skip connections\n",
        "  summary(model, input_size=(3,32,32))\n",
        "  print()\n",
        "\n",
        "  # Use make_dot from torcviz to visualize the graph\n",
        "  temp_x = torch.randn(1, 3, 32, 32).requires_grad_(True)\n",
        "  temp_y = model(temp_x)\n",
        "  make_dot(temp_y, params=dict(list(model.named_parameters()) + [('x', temp_x)]))"
      ],
      "execution_count": 0,
      "outputs": []
    },
    {
      "cell_type": "markdown",
      "metadata": {
        "id": "0S8aqzUd2IGl",
        "colab_type": "text"
      },
      "source": [
        "#### Train the network"
      ]
    },
    {
      "cell_type": "code",
      "metadata": {
        "id": "YCfGj1e0JPX7",
        "colab_type": "code",
        "colab": {
          "base_uri": "https://localhost:8080/",
          "height": 1000
        },
        "outputId": "33dcc586-d9bd-4559-8286-f36bd535b01c"
      },
      "source": [
        "# set the loss-criterion\n",
        "criterion = nn.CrossEntropyLoss()     # Combines the softmax fn and the -inve log-likelihood fn\n",
        "\n",
        "# set the optimizer\n",
        "optimizer = torch.optim.Adam(model.parameters(), lr=learning_rate)\n",
        "\n",
        "def update_lr(optimizer, lr):\n",
        "  for param_group in optimizer.param_groups:\n",
        "    param_group['lr'] = lr\n",
        "\n",
        "total_step = len(train_loader)\n",
        "curr_lr = learning_rate\n",
        "\n",
        "loss_list = []                      # list to save the losses\n",
        "acc_list = []                       # list to save and check the accuracy at each step\n",
        "\n",
        "\n",
        "for epoch in range(num_epochs):\n",
        "  for i, (images, labels) in enumerate(train_loader):\n",
        "    \n",
        "    # transfer to GPU if device CUDA\n",
        "    images = images.to(device)\n",
        "    labels = labels.to(device)\n",
        "\n",
        "    # Forward pass\n",
        "    outputs = model(images)\n",
        "    loss = criterion(outputs, labels)\n",
        "    loss_list.append(loss.item())         # .item() loss is a scaler tensor quantity\n",
        "\n",
        "    # Backward pass to optimize and update the weights\n",
        "    optimizer.zero_grad()\n",
        "    loss.backward()\n",
        "    optimizer.step()\n",
        "\n",
        "    # Check the accuracy\n",
        "    total = labels.size(0)                        # as shape (num. of examples, ....)\n",
        "    _, predicted = torch.max(outputs.data,1)      # as .max returns value, index. Here, index corresponds number where value is 1\n",
        "    correct = (predicted == labels).sum().item()\n",
        "    acc_list.append(correct / total)\n",
        "\n",
        "    # print the information at every 100th step\n",
        "    if (i+1) % 100 == 0:\n",
        "      print('Epoch [{}/{}], Step[{}/{}], Loss: {:.4f}, Accuracy: {:.2f}%'\n",
        "            .format(epoch +1, num_epochs, i+1, total_step, loss.item(), (correct / total)*100))\n",
        "\n",
        "    # Decay learning rate\n",
        "    if (epoch+1) % 20 == 0:\n",
        "        curr_lr /= 3\n",
        "        update_lr(optimizer, curr_lr)\n"
      ],
      "execution_count": 16,
      "outputs": [
        {
          "output_type": "stream",
          "text": [
            "Epoch [1/80], Step[100/500], Loss: 1.6863, Accuracy: 36.00%\n",
            "Epoch [1/80], Step[200/500], Loss: 1.3607, Accuracy: 51.00%\n",
            "Epoch [1/80], Step[300/500], Loss: 1.2876, Accuracy: 50.00%\n",
            "Epoch [1/80], Step[400/500], Loss: 1.2318, Accuracy: 49.00%\n",
            "Epoch [1/80], Step[500/500], Loss: 1.1787, Accuracy: 63.00%\n",
            "Epoch [2/80], Step[100/500], Loss: 0.9413, Accuracy: 63.00%\n",
            "Epoch [2/80], Step[200/500], Loss: 0.8974, Accuracy: 70.00%\n",
            "Epoch [2/80], Step[300/500], Loss: 0.9179, Accuracy: 69.00%\n",
            "Epoch [2/80], Step[400/500], Loss: 0.9499, Accuracy: 70.00%\n",
            "Epoch [2/80], Step[500/500], Loss: 1.1793, Accuracy: 60.00%\n",
            "Epoch [3/80], Step[100/500], Loss: 0.7334, Accuracy: 77.00%\n",
            "Epoch [3/80], Step[200/500], Loss: 0.9474, Accuracy: 66.00%\n",
            "Epoch [3/80], Step[300/500], Loss: 0.7234, Accuracy: 72.00%\n",
            "Epoch [3/80], Step[400/500], Loss: 0.6586, Accuracy: 75.00%\n",
            "Epoch [3/80], Step[500/500], Loss: 0.7162, Accuracy: 71.00%\n",
            "Epoch [4/80], Step[100/500], Loss: 0.7490, Accuracy: 76.00%\n",
            "Epoch [4/80], Step[200/500], Loss: 0.7552, Accuracy: 74.00%\n",
            "Epoch [4/80], Step[300/500], Loss: 0.6679, Accuracy: 73.00%\n",
            "Epoch [4/80], Step[400/500], Loss: 0.7111, Accuracy: 74.00%\n",
            "Epoch [4/80], Step[500/500], Loss: 0.5994, Accuracy: 75.00%\n",
            "Epoch [5/80], Step[100/500], Loss: 0.6608, Accuracy: 78.00%\n",
            "Epoch [5/80], Step[200/500], Loss: 0.5974, Accuracy: 78.00%\n",
            "Epoch [5/80], Step[300/500], Loss: 0.6460, Accuracy: 78.00%\n",
            "Epoch [5/80], Step[400/500], Loss: 0.4679, Accuracy: 83.00%\n",
            "Epoch [5/80], Step[500/500], Loss: 0.6227, Accuracy: 79.00%\n",
            "Epoch [6/80], Step[100/500], Loss: 0.7404, Accuracy: 74.00%\n",
            "Epoch [6/80], Step[200/500], Loss: 0.7012, Accuracy: 74.00%\n",
            "Epoch [6/80], Step[300/500], Loss: 0.6537, Accuracy: 79.00%\n",
            "Epoch [6/80], Step[400/500], Loss: 0.6841, Accuracy: 73.00%\n",
            "Epoch [6/80], Step[500/500], Loss: 0.6161, Accuracy: 78.00%\n",
            "Epoch [7/80], Step[100/500], Loss: 0.5309, Accuracy: 81.00%\n",
            "Epoch [7/80], Step[200/500], Loss: 0.7519, Accuracy: 75.00%\n",
            "Epoch [7/80], Step[300/500], Loss: 0.5615, Accuracy: 82.00%\n",
            "Epoch [7/80], Step[400/500], Loss: 0.4639, Accuracy: 86.00%\n",
            "Epoch [7/80], Step[500/500], Loss: 0.5442, Accuracy: 81.00%\n",
            "Epoch [8/80], Step[100/500], Loss: 0.5966, Accuracy: 83.00%\n",
            "Epoch [8/80], Step[200/500], Loss: 0.4966, Accuracy: 79.00%\n",
            "Epoch [8/80], Step[300/500], Loss: 0.5244, Accuracy: 84.00%\n",
            "Epoch [8/80], Step[400/500], Loss: 0.5368, Accuracy: 81.00%\n",
            "Epoch [8/80], Step[500/500], Loss: 0.4830, Accuracy: 86.00%\n",
            "Epoch [9/80], Step[100/500], Loss: 0.5334, Accuracy: 81.00%\n",
            "Epoch [9/80], Step[200/500], Loss: 0.4308, Accuracy: 86.00%\n",
            "Epoch [9/80], Step[300/500], Loss: 0.4843, Accuracy: 86.00%\n",
            "Epoch [9/80], Step[400/500], Loss: 0.4468, Accuracy: 83.00%\n",
            "Epoch [9/80], Step[500/500], Loss: 0.4565, Accuracy: 88.00%\n",
            "Epoch [10/80], Step[100/500], Loss: 0.6165, Accuracy: 81.00%\n",
            "Epoch [10/80], Step[200/500], Loss: 0.3392, Accuracy: 88.00%\n",
            "Epoch [10/80], Step[300/500], Loss: 0.4817, Accuracy: 84.00%\n",
            "Epoch [10/80], Step[400/500], Loss: 0.4085, Accuracy: 84.00%\n",
            "Epoch [10/80], Step[500/500], Loss: 0.5940, Accuracy: 76.00%\n",
            "Epoch [11/80], Step[100/500], Loss: 0.4700, Accuracy: 86.00%\n",
            "Epoch [11/80], Step[200/500], Loss: 0.4051, Accuracy: 86.00%\n",
            "Epoch [11/80], Step[300/500], Loss: 0.3597, Accuracy: 86.00%\n",
            "Epoch [11/80], Step[400/500], Loss: 0.4005, Accuracy: 84.00%\n",
            "Epoch [11/80], Step[500/500], Loss: 0.5085, Accuracy: 85.00%\n",
            "Epoch [12/80], Step[100/500], Loss: 0.3065, Accuracy: 92.00%\n",
            "Epoch [12/80], Step[200/500], Loss: 0.4646, Accuracy: 84.00%\n",
            "Epoch [12/80], Step[300/500], Loss: 0.5146, Accuracy: 85.00%\n",
            "Epoch [12/80], Step[400/500], Loss: 0.4433, Accuracy: 86.00%\n",
            "Epoch [12/80], Step[500/500], Loss: 0.4174, Accuracy: 86.00%\n",
            "Epoch [13/80], Step[100/500], Loss: 0.3772, Accuracy: 86.00%\n",
            "Epoch [13/80], Step[200/500], Loss: 0.4559, Accuracy: 83.00%\n",
            "Epoch [13/80], Step[300/500], Loss: 0.3449, Accuracy: 92.00%\n",
            "Epoch [13/80], Step[400/500], Loss: 0.3711, Accuracy: 85.00%\n",
            "Epoch [13/80], Step[500/500], Loss: 0.5650, Accuracy: 79.00%\n",
            "Epoch [14/80], Step[100/500], Loss: 0.3173, Accuracy: 89.00%\n",
            "Epoch [14/80], Step[200/500], Loss: 0.3776, Accuracy: 88.00%\n",
            "Epoch [14/80], Step[300/500], Loss: 0.3229, Accuracy: 88.00%\n",
            "Epoch [14/80], Step[400/500], Loss: 0.3785, Accuracy: 87.00%\n",
            "Epoch [14/80], Step[500/500], Loss: 0.2953, Accuracy: 87.00%\n",
            "Epoch [15/80], Step[100/500], Loss: 0.3884, Accuracy: 86.00%\n",
            "Epoch [15/80], Step[200/500], Loss: 0.5915, Accuracy: 82.00%\n",
            "Epoch [15/80], Step[300/500], Loss: 0.2604, Accuracy: 91.00%\n",
            "Epoch [15/80], Step[400/500], Loss: 0.4429, Accuracy: 85.00%\n",
            "Epoch [15/80], Step[500/500], Loss: 0.5579, Accuracy: 81.00%\n",
            "Epoch [16/80], Step[100/500], Loss: 0.3076, Accuracy: 92.00%\n",
            "Epoch [16/80], Step[200/500], Loss: 0.3904, Accuracy: 88.00%\n",
            "Epoch [16/80], Step[300/500], Loss: 0.3122, Accuracy: 90.00%\n",
            "Epoch [16/80], Step[400/500], Loss: 0.5512, Accuracy: 77.00%\n",
            "Epoch [16/80], Step[500/500], Loss: 0.3724, Accuracy: 88.00%\n",
            "Epoch [17/80], Step[100/500], Loss: 0.4079, Accuracy: 87.00%\n",
            "Epoch [17/80], Step[200/500], Loss: 0.2929, Accuracy: 88.00%\n",
            "Epoch [17/80], Step[300/500], Loss: 0.4171, Accuracy: 87.00%\n",
            "Epoch [17/80], Step[400/500], Loss: 0.3114, Accuracy: 90.00%\n",
            "Epoch [17/80], Step[500/500], Loss: 0.4351, Accuracy: 81.00%\n",
            "Epoch [18/80], Step[100/500], Loss: 0.4636, Accuracy: 82.00%\n",
            "Epoch [18/80], Step[200/500], Loss: 0.3917, Accuracy: 85.00%\n",
            "Epoch [18/80], Step[300/500], Loss: 0.3633, Accuracy: 87.00%\n",
            "Epoch [18/80], Step[400/500], Loss: 0.4384, Accuracy: 86.00%\n",
            "Epoch [18/80], Step[500/500], Loss: 0.3388, Accuracy: 87.00%\n",
            "Epoch [19/80], Step[100/500], Loss: 0.2910, Accuracy: 89.00%\n",
            "Epoch [19/80], Step[200/500], Loss: 0.4377, Accuracy: 85.00%\n",
            "Epoch [19/80], Step[300/500], Loss: 0.2619, Accuracy: 94.00%\n",
            "Epoch [19/80], Step[400/500], Loss: 0.3943, Accuracy: 90.00%\n",
            "Epoch [19/80], Step[500/500], Loss: 0.3866, Accuracy: 90.00%\n",
            "Epoch [20/80], Step[100/500], Loss: 0.2876, Accuracy: 91.00%\n",
            "Epoch [20/80], Step[200/500], Loss: 0.3694, Accuracy: 89.00%\n",
            "Epoch [20/80], Step[300/500], Loss: 0.2776, Accuracy: 91.00%\n",
            "Epoch [20/80], Step[400/500], Loss: 0.2941, Accuracy: 91.00%\n",
            "Epoch [20/80], Step[500/500], Loss: 0.2457, Accuracy: 92.00%\n",
            "Epoch [21/80], Step[100/500], Loss: 0.2602, Accuracy: 91.00%\n",
            "Epoch [21/80], Step[200/500], Loss: 0.3838, Accuracy: 87.00%\n",
            "Epoch [21/80], Step[300/500], Loss: 0.3344, Accuracy: 89.00%\n",
            "Epoch [21/80], Step[400/500], Loss: 0.1483, Accuracy: 96.00%\n",
            "Epoch [21/80], Step[500/500], Loss: 0.4973, Accuracy: 82.00%\n",
            "Epoch [22/80], Step[100/500], Loss: 0.3218, Accuracy: 88.00%\n",
            "Epoch [22/80], Step[200/500], Loss: 0.4125, Accuracy: 86.00%\n",
            "Epoch [22/80], Step[300/500], Loss: 0.3482, Accuracy: 87.00%\n",
            "Epoch [22/80], Step[400/500], Loss: 0.3694, Accuracy: 87.00%\n",
            "Epoch [22/80], Step[500/500], Loss: 0.4103, Accuracy: 86.00%\n",
            "Epoch [23/80], Step[100/500], Loss: 0.3062, Accuracy: 90.00%\n",
            "Epoch [23/80], Step[200/500], Loss: 0.3918, Accuracy: 85.00%\n",
            "Epoch [23/80], Step[300/500], Loss: 0.3389, Accuracy: 88.00%\n",
            "Epoch [23/80], Step[400/500], Loss: 0.2899, Accuracy: 89.00%\n",
            "Epoch [23/80], Step[500/500], Loss: 0.5106, Accuracy: 84.00%\n",
            "Epoch [24/80], Step[100/500], Loss: 0.2761, Accuracy: 89.00%\n",
            "Epoch [24/80], Step[200/500], Loss: 0.3942, Accuracy: 89.00%\n",
            "Epoch [24/80], Step[300/500], Loss: 0.2865, Accuracy: 91.00%\n",
            "Epoch [24/80], Step[400/500], Loss: 0.4788, Accuracy: 83.00%\n",
            "Epoch [24/80], Step[500/500], Loss: 0.3788, Accuracy: 88.00%\n",
            "Epoch [25/80], Step[100/500], Loss: 0.3151, Accuracy: 87.00%\n",
            "Epoch [25/80], Step[200/500], Loss: 0.4153, Accuracy: 84.00%\n",
            "Epoch [25/80], Step[300/500], Loss: 0.3665, Accuracy: 85.00%\n",
            "Epoch [25/80], Step[400/500], Loss: 0.2884, Accuracy: 89.00%\n",
            "Epoch [25/80], Step[500/500], Loss: 0.4686, Accuracy: 86.00%\n",
            "Epoch [26/80], Step[100/500], Loss: 0.3463, Accuracy: 86.00%\n",
            "Epoch [26/80], Step[200/500], Loss: 0.5444, Accuracy: 80.00%\n",
            "Epoch [26/80], Step[300/500], Loss: 0.3545, Accuracy: 88.00%\n",
            "Epoch [26/80], Step[400/500], Loss: 0.3270, Accuracy: 90.00%\n",
            "Epoch [26/80], Step[500/500], Loss: 0.3529, Accuracy: 87.00%\n",
            "Epoch [27/80], Step[100/500], Loss: 0.4790, Accuracy: 85.00%\n",
            "Epoch [27/80], Step[200/500], Loss: 0.4802, Accuracy: 81.00%\n",
            "Epoch [27/80], Step[300/500], Loss: 0.3703, Accuracy: 84.00%\n",
            "Epoch [27/80], Step[400/500], Loss: 0.2925, Accuracy: 92.00%\n",
            "Epoch [27/80], Step[500/500], Loss: 0.3712, Accuracy: 87.00%\n",
            "Epoch [28/80], Step[100/500], Loss: 0.3955, Accuracy: 87.00%\n",
            "Epoch [28/80], Step[200/500], Loss: 0.3951, Accuracy: 86.00%\n",
            "Epoch [28/80], Step[300/500], Loss: 0.3901, Accuracy: 83.00%\n",
            "Epoch [28/80], Step[400/500], Loss: 0.4846, Accuracy: 83.00%\n",
            "Epoch [28/80], Step[500/500], Loss: 0.3604, Accuracy: 87.00%\n",
            "Epoch [29/80], Step[100/500], Loss: 0.4093, Accuracy: 85.00%\n",
            "Epoch [29/80], Step[200/500], Loss: 0.2843, Accuracy: 91.00%\n",
            "Epoch [29/80], Step[300/500], Loss: 0.3213, Accuracy: 89.00%\n",
            "Epoch [29/80], Step[400/500], Loss: 0.3081, Accuracy: 89.00%\n",
            "Epoch [29/80], Step[500/500], Loss: 0.4025, Accuracy: 89.00%\n",
            "Epoch [30/80], Step[100/500], Loss: 0.2959, Accuracy: 87.00%\n",
            "Epoch [30/80], Step[200/500], Loss: 0.3193, Accuracy: 89.00%\n",
            "Epoch [30/80], Step[300/500], Loss: 0.4038, Accuracy: 83.00%\n",
            "Epoch [30/80], Step[400/500], Loss: 0.2946, Accuracy: 85.00%\n",
            "Epoch [30/80], Step[500/500], Loss: 0.3468, Accuracy: 87.00%\n",
            "Epoch [31/80], Step[100/500], Loss: 0.3841, Accuracy: 86.00%\n",
            "Epoch [31/80], Step[200/500], Loss: 0.3378, Accuracy: 89.00%\n",
            "Epoch [31/80], Step[300/500], Loss: 0.2394, Accuracy: 92.00%\n",
            "Epoch [31/80], Step[400/500], Loss: 0.2607, Accuracy: 91.00%\n",
            "Epoch [31/80], Step[500/500], Loss: 0.2278, Accuracy: 92.00%\n",
            "Epoch [32/80], Step[100/500], Loss: 0.4241, Accuracy: 87.00%\n",
            "Epoch [32/80], Step[200/500], Loss: 0.2456, Accuracy: 90.00%\n",
            "Epoch [32/80], Step[300/500], Loss: 0.4323, Accuracy: 85.00%\n",
            "Epoch [32/80], Step[400/500], Loss: 0.3348, Accuracy: 90.00%\n",
            "Epoch [32/80], Step[500/500], Loss: 0.3995, Accuracy: 85.00%\n",
            "Epoch [33/80], Step[100/500], Loss: 0.3552, Accuracy: 87.00%\n",
            "Epoch [33/80], Step[200/500], Loss: 0.3054, Accuracy: 88.00%\n",
            "Epoch [33/80], Step[300/500], Loss: 0.3579, Accuracy: 87.00%\n",
            "Epoch [33/80], Step[400/500], Loss: 0.3419, Accuracy: 87.00%\n",
            "Epoch [33/80], Step[500/500], Loss: 0.4342, Accuracy: 88.00%\n",
            "Epoch [34/80], Step[100/500], Loss: 0.3030, Accuracy: 91.00%\n",
            "Epoch [34/80], Step[200/500], Loss: 0.4403, Accuracy: 86.00%\n",
            "Epoch [34/80], Step[300/500], Loss: 0.3879, Accuracy: 89.00%\n",
            "Epoch [34/80], Step[400/500], Loss: 0.3907, Accuracy: 86.00%\n",
            "Epoch [34/80], Step[500/500], Loss: 0.3641, Accuracy: 88.00%\n",
            "Epoch [35/80], Step[100/500], Loss: 0.2001, Accuracy: 91.00%\n",
            "Epoch [35/80], Step[200/500], Loss: 0.4287, Accuracy: 86.00%\n",
            "Epoch [35/80], Step[300/500], Loss: 0.3968, Accuracy: 86.00%\n",
            "Epoch [35/80], Step[400/500], Loss: 0.2269, Accuracy: 91.00%\n",
            "Epoch [35/80], Step[500/500], Loss: 0.3396, Accuracy: 85.00%\n",
            "Epoch [36/80], Step[100/500], Loss: 0.3916, Accuracy: 87.00%\n",
            "Epoch [36/80], Step[200/500], Loss: 0.3931, Accuracy: 83.00%\n",
            "Epoch [36/80], Step[300/500], Loss: 0.3907, Accuracy: 84.00%\n",
            "Epoch [36/80], Step[400/500], Loss: 0.4496, Accuracy: 82.00%\n",
            "Epoch [36/80], Step[500/500], Loss: 0.3107, Accuracy: 89.00%\n",
            "Epoch [37/80], Step[100/500], Loss: 0.3831, Accuracy: 84.00%\n",
            "Epoch [37/80], Step[200/500], Loss: 0.4461, Accuracy: 83.00%\n",
            "Epoch [37/80], Step[300/500], Loss: 0.2706, Accuracy: 89.00%\n",
            "Epoch [37/80], Step[400/500], Loss: 0.5091, Accuracy: 79.00%\n",
            "Epoch [37/80], Step[500/500], Loss: 0.2798, Accuracy: 90.00%\n",
            "Epoch [38/80], Step[100/500], Loss: 0.3174, Accuracy: 91.00%\n",
            "Epoch [38/80], Step[200/500], Loss: 0.2424, Accuracy: 91.00%\n",
            "Epoch [38/80], Step[300/500], Loss: 0.3179, Accuracy: 89.00%\n",
            "Epoch [38/80], Step[400/500], Loss: 0.4002, Accuracy: 85.00%\n",
            "Epoch [38/80], Step[500/500], Loss: 0.2609, Accuracy: 91.00%\n",
            "Epoch [39/80], Step[100/500], Loss: 0.3419, Accuracy: 88.00%\n",
            "Epoch [39/80], Step[200/500], Loss: 0.3378, Accuracy: 90.00%\n",
            "Epoch [39/80], Step[300/500], Loss: 0.4917, Accuracy: 83.00%\n",
            "Epoch [39/80], Step[400/500], Loss: 0.3079, Accuracy: 88.00%\n",
            "Epoch [39/80], Step[500/500], Loss: 0.2370, Accuracy: 91.00%\n",
            "Epoch [40/80], Step[100/500], Loss: 0.3550, Accuracy: 89.00%\n",
            "Epoch [40/80], Step[200/500], Loss: 0.3104, Accuracy: 88.00%\n",
            "Epoch [40/80], Step[300/500], Loss: 0.4767, Accuracy: 81.00%\n",
            "Epoch [40/80], Step[400/500], Loss: 0.3729, Accuracy: 87.00%\n",
            "Epoch [40/80], Step[500/500], Loss: 0.3505, Accuracy: 86.00%\n",
            "Epoch [41/80], Step[100/500], Loss: 0.2395, Accuracy: 91.00%\n",
            "Epoch [41/80], Step[200/500], Loss: 0.2117, Accuracy: 94.00%\n",
            "Epoch [41/80], Step[300/500], Loss: 0.2354, Accuracy: 90.00%\n",
            "Epoch [41/80], Step[400/500], Loss: 0.3260, Accuracy: 89.00%\n",
            "Epoch [41/80], Step[500/500], Loss: 0.3229, Accuracy: 88.00%\n",
            "Epoch [42/80], Step[100/500], Loss: 0.2350, Accuracy: 91.00%\n",
            "Epoch [42/80], Step[200/500], Loss: 0.3527, Accuracy: 87.00%\n",
            "Epoch [42/80], Step[300/500], Loss: 0.3488, Accuracy: 88.00%\n",
            "Epoch [42/80], Step[400/500], Loss: 0.2379, Accuracy: 92.00%\n",
            "Epoch [42/80], Step[500/500], Loss: 0.2577, Accuracy: 91.00%\n",
            "Epoch [43/80], Step[100/500], Loss: 0.3542, Accuracy: 86.00%\n",
            "Epoch [43/80], Step[200/500], Loss: 0.3411, Accuracy: 88.00%\n",
            "Epoch [43/80], Step[300/500], Loss: 0.2493, Accuracy: 92.00%\n",
            "Epoch [43/80], Step[400/500], Loss: 0.2669, Accuracy: 90.00%\n",
            "Epoch [43/80], Step[500/500], Loss: 0.3206, Accuracy: 88.00%\n",
            "Epoch [44/80], Step[100/500], Loss: 0.3138, Accuracy: 89.00%\n",
            "Epoch [44/80], Step[200/500], Loss: 0.3807, Accuracy: 85.00%\n",
            "Epoch [44/80], Step[300/500], Loss: 0.2559, Accuracy: 92.00%\n",
            "Epoch [44/80], Step[400/500], Loss: 0.3153, Accuracy: 88.00%\n",
            "Epoch [44/80], Step[500/500], Loss: 0.2669, Accuracy: 90.00%\n",
            "Epoch [45/80], Step[100/500], Loss: 0.3202, Accuracy: 90.00%\n",
            "Epoch [45/80], Step[200/500], Loss: 0.3157, Accuracy: 89.00%\n",
            "Epoch [45/80], Step[300/500], Loss: 0.3277, Accuracy: 88.00%\n",
            "Epoch [45/80], Step[400/500], Loss: 0.3046, Accuracy: 92.00%\n",
            "Epoch [45/80], Step[500/500], Loss: 0.4747, Accuracy: 81.00%\n",
            "Epoch [46/80], Step[100/500], Loss: 0.3172, Accuracy: 90.00%\n",
            "Epoch [46/80], Step[200/500], Loss: 0.2954, Accuracy: 91.00%\n",
            "Epoch [46/80], Step[300/500], Loss: 0.3823, Accuracy: 87.00%\n",
            "Epoch [46/80], Step[400/500], Loss: 0.3946, Accuracy: 85.00%\n",
            "Epoch [46/80], Step[500/500], Loss: 0.4670, Accuracy: 83.00%\n",
            "Epoch [47/80], Step[100/500], Loss: 0.2243, Accuracy: 92.00%\n",
            "Epoch [47/80], Step[200/500], Loss: 0.3527, Accuracy: 88.00%\n",
            "Epoch [47/80], Step[300/500], Loss: 0.2889, Accuracy: 88.00%\n",
            "Epoch [47/80], Step[400/500], Loss: 0.4853, Accuracy: 79.00%\n",
            "Epoch [47/80], Step[500/500], Loss: 0.2958, Accuracy: 88.00%\n",
            "Epoch [48/80], Step[100/500], Loss: 0.4776, Accuracy: 83.00%\n",
            "Epoch [48/80], Step[200/500], Loss: 0.3274, Accuracy: 89.00%\n",
            "Epoch [48/80], Step[300/500], Loss: 0.2683, Accuracy: 91.00%\n",
            "Epoch [48/80], Step[400/500], Loss: 0.3065, Accuracy: 90.00%\n",
            "Epoch [48/80], Step[500/500], Loss: 0.3336, Accuracy: 87.00%\n",
            "Epoch [49/80], Step[100/500], Loss: 0.5105, Accuracy: 84.00%\n",
            "Epoch [49/80], Step[200/500], Loss: 0.3141, Accuracy: 89.00%\n",
            "Epoch [49/80], Step[300/500], Loss: 0.3970, Accuracy: 88.00%\n",
            "Epoch [49/80], Step[400/500], Loss: 0.3312, Accuracy: 90.00%\n",
            "Epoch [49/80], Step[500/500], Loss: 0.3239, Accuracy: 90.00%\n",
            "Epoch [50/80], Step[100/500], Loss: 0.2459, Accuracy: 90.00%\n",
            "Epoch [50/80], Step[200/500], Loss: 0.2581, Accuracy: 94.00%\n",
            "Epoch [50/80], Step[300/500], Loss: 0.3560, Accuracy: 91.00%\n",
            "Epoch [50/80], Step[400/500], Loss: 0.2915, Accuracy: 91.00%\n",
            "Epoch [50/80], Step[500/500], Loss: 0.4977, Accuracy: 86.00%\n",
            "Epoch [51/80], Step[100/500], Loss: 0.3473, Accuracy: 89.00%\n",
            "Epoch [51/80], Step[200/500], Loss: 0.3869, Accuracy: 87.00%\n",
            "Epoch [51/80], Step[300/500], Loss: 0.3872, Accuracy: 84.00%\n",
            "Epoch [51/80], Step[400/500], Loss: 0.3487, Accuracy: 86.00%\n",
            "Epoch [51/80], Step[500/500], Loss: 0.3893, Accuracy: 89.00%\n",
            "Epoch [52/80], Step[100/500], Loss: 0.3658, Accuracy: 86.00%\n",
            "Epoch [52/80], Step[200/500], Loss: 0.3530, Accuracy: 89.00%\n",
            "Epoch [52/80], Step[300/500], Loss: 0.3802, Accuracy: 86.00%\n",
            "Epoch [52/80], Step[400/500], Loss: 0.5443, Accuracy: 86.00%\n",
            "Epoch [52/80], Step[500/500], Loss: 0.4087, Accuracy: 92.00%\n",
            "Epoch [53/80], Step[100/500], Loss: 0.1790, Accuracy: 95.00%\n",
            "Epoch [53/80], Step[200/500], Loss: 0.3067, Accuracy: 88.00%\n",
            "Epoch [53/80], Step[300/500], Loss: 0.3563, Accuracy: 86.00%\n",
            "Epoch [53/80], Step[400/500], Loss: 0.3277, Accuracy: 91.00%\n",
            "Epoch [53/80], Step[500/500], Loss: 0.2647, Accuracy: 92.00%\n",
            "Epoch [54/80], Step[100/500], Loss: 0.3697, Accuracy: 84.00%\n",
            "Epoch [54/80], Step[200/500], Loss: 0.2347, Accuracy: 91.00%\n",
            "Epoch [54/80], Step[300/500], Loss: 0.4796, Accuracy: 84.00%\n",
            "Epoch [54/80], Step[400/500], Loss: 0.3994, Accuracy: 86.00%\n",
            "Epoch [54/80], Step[500/500], Loss: 0.2979, Accuracy: 89.00%\n",
            "Epoch [55/80], Step[100/500], Loss: 0.2730, Accuracy: 90.00%\n",
            "Epoch [55/80], Step[200/500], Loss: 0.3807, Accuracy: 86.00%\n",
            "Epoch [55/80], Step[300/500], Loss: 0.3463, Accuracy: 91.00%\n",
            "Epoch [55/80], Step[400/500], Loss: 0.3971, Accuracy: 85.00%\n",
            "Epoch [55/80], Step[500/500], Loss: 0.3195, Accuracy: 90.00%\n",
            "Epoch [56/80], Step[100/500], Loss: 0.3536, Accuracy: 89.00%\n",
            "Epoch [56/80], Step[200/500], Loss: 0.4100, Accuracy: 85.00%\n",
            "Epoch [56/80], Step[300/500], Loss: 0.3995, Accuracy: 84.00%\n",
            "Epoch [56/80], Step[400/500], Loss: 0.3632, Accuracy: 92.00%\n",
            "Epoch [56/80], Step[500/500], Loss: 0.3692, Accuracy: 86.00%\n",
            "Epoch [57/80], Step[100/500], Loss: 0.3867, Accuracy: 89.00%\n",
            "Epoch [57/80], Step[200/500], Loss: 0.2533, Accuracy: 91.00%\n",
            "Epoch [57/80], Step[300/500], Loss: 0.3131, Accuracy: 91.00%\n",
            "Epoch [57/80], Step[400/500], Loss: 0.3587, Accuracy: 89.00%\n",
            "Epoch [57/80], Step[500/500], Loss: 0.3782, Accuracy: 88.00%\n",
            "Epoch [58/80], Step[100/500], Loss: 0.2447, Accuracy: 95.00%\n",
            "Epoch [58/80], Step[200/500], Loss: 0.2592, Accuracy: 92.00%\n",
            "Epoch [58/80], Step[300/500], Loss: 0.2975, Accuracy: 88.00%\n",
            "Epoch [58/80], Step[400/500], Loss: 0.2930, Accuracy: 88.00%\n",
            "Epoch [58/80], Step[500/500], Loss: 0.3481, Accuracy: 88.00%\n",
            "Epoch [59/80], Step[100/500], Loss: 0.4027, Accuracy: 87.00%\n",
            "Epoch [59/80], Step[200/500], Loss: 0.3553, Accuracy: 87.00%\n",
            "Epoch [59/80], Step[300/500], Loss: 0.4258, Accuracy: 85.00%\n",
            "Epoch [59/80], Step[400/500], Loss: 0.4134, Accuracy: 85.00%\n",
            "Epoch [59/80], Step[500/500], Loss: 0.3427, Accuracy: 89.00%\n",
            "Epoch [60/80], Step[100/500], Loss: 0.4527, Accuracy: 84.00%\n",
            "Epoch [60/80], Step[200/500], Loss: 0.3525, Accuracy: 87.00%\n",
            "Epoch [60/80], Step[300/500], Loss: 0.4461, Accuracy: 87.00%\n",
            "Epoch [60/80], Step[400/500], Loss: 0.2971, Accuracy: 88.00%\n",
            "Epoch [60/80], Step[500/500], Loss: 0.4128, Accuracy: 81.00%\n",
            "Epoch [61/80], Step[100/500], Loss: 0.3166, Accuracy: 90.00%\n",
            "Epoch [61/80], Step[200/500], Loss: 0.2164, Accuracy: 95.00%\n",
            "Epoch [61/80], Step[300/500], Loss: 0.3035, Accuracy: 90.00%\n",
            "Epoch [61/80], Step[400/500], Loss: 0.2671, Accuracy: 91.00%\n",
            "Epoch [61/80], Step[500/500], Loss: 0.1994, Accuracy: 93.00%\n",
            "Epoch [62/80], Step[100/500], Loss: 0.2804, Accuracy: 92.00%\n",
            "Epoch [62/80], Step[200/500], Loss: 0.3972, Accuracy: 86.00%\n",
            "Epoch [62/80], Step[300/500], Loss: 0.3880, Accuracy: 85.00%\n",
            "Epoch [62/80], Step[400/500], Loss: 0.3514, Accuracy: 86.00%\n",
            "Epoch [62/80], Step[500/500], Loss: 0.3492, Accuracy: 87.00%\n",
            "Epoch [63/80], Step[100/500], Loss: 0.3235, Accuracy: 88.00%\n",
            "Epoch [63/80], Step[200/500], Loss: 0.2938, Accuracy: 89.00%\n",
            "Epoch [63/80], Step[300/500], Loss: 0.4121, Accuracy: 87.00%\n",
            "Epoch [63/80], Step[400/500], Loss: 0.3416, Accuracy: 89.00%\n",
            "Epoch [63/80], Step[500/500], Loss: 0.4299, Accuracy: 86.00%\n",
            "Epoch [64/80], Step[100/500], Loss: 0.4288, Accuracy: 84.00%\n",
            "Epoch [64/80], Step[200/500], Loss: 0.4419, Accuracy: 85.00%\n",
            "Epoch [64/80], Step[300/500], Loss: 0.3038, Accuracy: 87.00%\n",
            "Epoch [64/80], Step[400/500], Loss: 0.2364, Accuracy: 93.00%\n",
            "Epoch [64/80], Step[500/500], Loss: 0.2059, Accuracy: 94.00%\n",
            "Epoch [65/80], Step[100/500], Loss: 0.2543, Accuracy: 91.00%\n",
            "Epoch [65/80], Step[200/500], Loss: 0.3603, Accuracy: 90.00%\n",
            "Epoch [65/80], Step[300/500], Loss: 0.3477, Accuracy: 90.00%\n",
            "Epoch [65/80], Step[400/500], Loss: 0.3409, Accuracy: 88.00%\n",
            "Epoch [65/80], Step[500/500], Loss: 0.3723, Accuracy: 90.00%\n",
            "Epoch [66/80], Step[100/500], Loss: 0.3445, Accuracy: 87.00%\n",
            "Epoch [66/80], Step[200/500], Loss: 0.4318, Accuracy: 86.00%\n",
            "Epoch [66/80], Step[300/500], Loss: 0.3431, Accuracy: 90.00%\n",
            "Epoch [66/80], Step[400/500], Loss: 0.2867, Accuracy: 90.00%\n",
            "Epoch [66/80], Step[500/500], Loss: 0.4435, Accuracy: 85.00%\n",
            "Epoch [67/80], Step[100/500], Loss: 0.3317, Accuracy: 90.00%\n",
            "Epoch [67/80], Step[200/500], Loss: 0.3513, Accuracy: 85.00%\n",
            "Epoch [67/80], Step[300/500], Loss: 0.3094, Accuracy: 91.00%\n",
            "Epoch [67/80], Step[400/500], Loss: 0.3885, Accuracy: 86.00%\n",
            "Epoch [67/80], Step[500/500], Loss: 0.2500, Accuracy: 91.00%\n",
            "Epoch [68/80], Step[100/500], Loss: 0.4353, Accuracy: 87.00%\n",
            "Epoch [68/80], Step[200/500], Loss: 0.2492, Accuracy: 93.00%\n",
            "Epoch [68/80], Step[300/500], Loss: 0.4600, Accuracy: 86.00%\n",
            "Epoch [68/80], Step[400/500], Loss: 0.2985, Accuracy: 90.00%\n",
            "Epoch [68/80], Step[500/500], Loss: 0.3277, Accuracy: 89.00%\n",
            "Epoch [69/80], Step[100/500], Loss: 0.2789, Accuracy: 91.00%\n",
            "Epoch [69/80], Step[200/500], Loss: 0.2722, Accuracy: 91.00%\n",
            "Epoch [69/80], Step[300/500], Loss: 0.2332, Accuracy: 92.00%\n",
            "Epoch [69/80], Step[400/500], Loss: 0.3429, Accuracy: 90.00%\n",
            "Epoch [69/80], Step[500/500], Loss: 0.3434, Accuracy: 91.00%\n",
            "Epoch [70/80], Step[100/500], Loss: 0.2115, Accuracy: 93.00%\n",
            "Epoch [70/80], Step[200/500], Loss: 0.2482, Accuracy: 90.00%\n",
            "Epoch [70/80], Step[300/500], Loss: 0.3958, Accuracy: 89.00%\n",
            "Epoch [70/80], Step[400/500], Loss: 0.4461, Accuracy: 84.00%\n",
            "Epoch [70/80], Step[500/500], Loss: 0.3829, Accuracy: 87.00%\n",
            "Epoch [71/80], Step[100/500], Loss: 0.2810, Accuracy: 91.00%\n",
            "Epoch [71/80], Step[200/500], Loss: 0.3229, Accuracy: 90.00%\n",
            "Epoch [71/80], Step[300/500], Loss: 0.3658, Accuracy: 86.00%\n",
            "Epoch [71/80], Step[400/500], Loss: 0.3300, Accuracy: 87.00%\n",
            "Epoch [71/80], Step[500/500], Loss: 0.2964, Accuracy: 89.00%\n",
            "Epoch [72/80], Step[100/500], Loss: 0.3501, Accuracy: 89.00%\n",
            "Epoch [72/80], Step[200/500], Loss: 0.3039, Accuracy: 90.00%\n",
            "Epoch [72/80], Step[300/500], Loss: 0.2926, Accuracy: 91.00%\n",
            "Epoch [72/80], Step[400/500], Loss: 0.2701, Accuracy: 93.00%\n",
            "Epoch [72/80], Step[500/500], Loss: 0.3567, Accuracy: 87.00%\n",
            "Epoch [73/80], Step[100/500], Loss: 0.3388, Accuracy: 86.00%\n",
            "Epoch [73/80], Step[200/500], Loss: 0.3615, Accuracy: 86.00%\n",
            "Epoch [73/80], Step[300/500], Loss: 0.3969, Accuracy: 86.00%\n",
            "Epoch [73/80], Step[400/500], Loss: 0.3335, Accuracy: 86.00%\n",
            "Epoch [73/80], Step[500/500], Loss: 0.6201, Accuracy: 81.00%\n",
            "Epoch [74/80], Step[100/500], Loss: 0.3886, Accuracy: 89.00%\n",
            "Epoch [74/80], Step[200/500], Loss: 0.2485, Accuracy: 92.00%\n",
            "Epoch [74/80], Step[300/500], Loss: 0.4280, Accuracy: 85.00%\n",
            "Epoch [74/80], Step[400/500], Loss: 0.2984, Accuracy: 87.00%\n",
            "Epoch [74/80], Step[500/500], Loss: 0.3598, Accuracy: 88.00%\n",
            "Epoch [75/80], Step[100/500], Loss: 0.3165, Accuracy: 90.00%\n",
            "Epoch [75/80], Step[200/500], Loss: 0.3245, Accuracy: 88.00%\n",
            "Epoch [75/80], Step[300/500], Loss: 0.2997, Accuracy: 89.00%\n",
            "Epoch [75/80], Step[400/500], Loss: 0.2310, Accuracy: 91.00%\n",
            "Epoch [75/80], Step[500/500], Loss: 0.3445, Accuracy: 89.00%\n",
            "Epoch [76/80], Step[100/500], Loss: 0.3533, Accuracy: 88.00%\n",
            "Epoch [76/80], Step[200/500], Loss: 0.3316, Accuracy: 88.00%\n",
            "Epoch [76/80], Step[300/500], Loss: 0.3609, Accuracy: 86.00%\n",
            "Epoch [76/80], Step[400/500], Loss: 0.3591, Accuracy: 88.00%\n",
            "Epoch [76/80], Step[500/500], Loss: 0.3222, Accuracy: 92.00%\n",
            "Epoch [77/80], Step[100/500], Loss: 0.3513, Accuracy: 88.00%\n",
            "Epoch [77/80], Step[200/500], Loss: 0.1784, Accuracy: 95.00%\n",
            "Epoch [77/80], Step[300/500], Loss: 0.3227, Accuracy: 87.00%\n",
            "Epoch [77/80], Step[400/500], Loss: 0.2634, Accuracy: 91.00%\n",
            "Epoch [77/80], Step[500/500], Loss: 0.3478, Accuracy: 88.00%\n",
            "Epoch [78/80], Step[100/500], Loss: 0.2918, Accuracy: 87.00%\n",
            "Epoch [78/80], Step[200/500], Loss: 0.2285, Accuracy: 91.00%\n",
            "Epoch [78/80], Step[300/500], Loss: 0.3414, Accuracy: 86.00%\n",
            "Epoch [78/80], Step[400/500], Loss: 0.3513, Accuracy: 89.00%\n",
            "Epoch [78/80], Step[500/500], Loss: 0.2522, Accuracy: 93.00%\n",
            "Epoch [79/80], Step[100/500], Loss: 0.3613, Accuracy: 87.00%\n",
            "Epoch [79/80], Step[200/500], Loss: 0.2779, Accuracy: 91.00%\n",
            "Epoch [79/80], Step[300/500], Loss: 0.3688, Accuracy: 86.00%\n",
            "Epoch [79/80], Step[400/500], Loss: 0.2425, Accuracy: 94.00%\n",
            "Epoch [79/80], Step[500/500], Loss: 0.4533, Accuracy: 86.00%\n",
            "Epoch [80/80], Step[100/500], Loss: 0.3272, Accuracy: 87.00%\n",
            "Epoch [80/80], Step[200/500], Loss: 0.3316, Accuracy: 91.00%\n",
            "Epoch [80/80], Step[300/500], Loss: 0.3425, Accuracy: 87.00%\n",
            "Epoch [80/80], Step[400/500], Loss: 0.4857, Accuracy: 82.00%\n",
            "Epoch [80/80], Step[500/500], Loss: 0.3071, Accuracy: 88.00%\n"
          ],
          "name": "stdout"
        }
      ]
    },
    {
      "cell_type": "code",
      "metadata": {
        "id": "gPo0KuGQLwjV",
        "colab_type": "code",
        "colab": {
          "base_uri": "https://localhost:8080/",
          "height": 34
        },
        "outputId": "2034fc00-b57f-4534-f7d2-b1c8b09fe743"
      },
      "source": [
        "# Test the model\n",
        "model.eval()\n",
        "with torch.no_grad():\n",
        "    correct = 0\n",
        "    total = 0\n",
        "    for images, labels in test_loader:\n",
        "        images = images.to(device)\n",
        "        labels = labels.to(device)\n",
        "        outputs = model(images)\n",
        "        _, predicted = torch.max(outputs.data, 1)\n",
        "        total += labels.size(0)\n",
        "        correct += (predicted == labels).sum().item()\n",
        "\n",
        "    print('Accuracy of the model on the test images: {} %'.format(100 * correct / total))"
      ],
      "execution_count": 17,
      "outputs": [
        {
          "output_type": "stream",
          "text": [
            "Accuracy of the model on the test images: 85.36 %\n"
          ],
          "name": "stdout"
        }
      ]
    },
    {
      "cell_type": "code",
      "metadata": {
        "id": "lwHJS_t9bOC3",
        "colab_type": "code",
        "colab": {}
      },
      "source": [
        ""
      ],
      "execution_count": 0,
      "outputs": []
    }
  ]
}