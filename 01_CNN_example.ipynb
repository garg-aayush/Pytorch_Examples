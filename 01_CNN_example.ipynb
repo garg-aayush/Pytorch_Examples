{
  "nbformat": 4,
  "nbformat_minor": 0,
  "metadata": {
    "colab": {
      "name": "01_CNN_example.ipynb",
      "provenance": [],
      "authorship_tag": "ABX9TyNiJpMtwct21gHDzMIJ5iqZ",
      "include_colab_link": true
    },
    "kernelspec": {
      "name": "python3",
      "display_name": "Python 3"
    },
    "accelerator": "GPU"
  },
  "cells": [
    {
      "cell_type": "markdown",
      "metadata": {
        "id": "view-in-github",
        "colab_type": "text"
      },
      "source": [
        "<a href=\"https://colab.research.google.com/github/garg-aayush/Pytorch_Examples/blob/master/01_CNN_example.ipynb\" target=\"_parent\"><img src=\"https://colab.research.google.com/assets/colab-badge.svg\" alt=\"Open In Colab\"/></a>"
      ]
    },
    {
      "cell_type": "markdown",
      "metadata": {
        "id": "aYsfXPDbQjgm",
        "colab_type": "text"
      },
      "source": [
        "### In this example, we build a 2-convolution layer network to classify the hand-written digits of the MNIST dataset"
      ]
    },
    {
      "cell_type": "code",
      "metadata": {
        "id": "VUjWxeoPot1-",
        "colab_type": "code",
        "colab": {}
      },
      "source": [
        "## import the required modules \n",
        "import torch\n",
        "import torch.nn as nn\n",
        "import torchvision \n",
        "import torchvision.transforms as transforms\n",
        "\n",
        "# for plotting\n",
        "from bokeh.plotting import figure\n",
        "from bokeh.io import show\n",
        "from bokeh.models import LinearAxis, Range1d\n",
        "import numpy as np\n",
        "\n",
        "from bokeh.io import output_notebook\n",
        "\n",
        "# Call once to configure Bokeh to display plots inline in the notebook.\n",
        "output_notebook()"
      ],
      "execution_count": 0,
      "outputs": []
    },
    {
      "cell_type": "code",
      "metadata": {
        "id": "TBBL1pdQBbyv",
        "colab_type": "code",
        "outputId": "42be031b-2f6d-499d-ebec-93fc9f0aad7e",
        "colab": {
          "base_uri": "https://localhost:8080/",
          "height": 34
        }
      },
      "source": [
        "# Check for the device, whether GPU is available or not\n",
        "device = torch.device('cuda:0' if torch.cuda.is_available() else 'cpu')\n",
        "print(device)"
      ],
      "execution_count": 0,
      "outputs": [
        {
          "output_type": "stream",
          "text": [
            "cuda:0\n"
          ],
          "name": "stdout"
        }
      ]
    },
    {
      "cell_type": "code",
      "metadata": {
        "id": "vziUJkT8nypu",
        "colab_type": "code",
        "colab": {}
      },
      "source": [
        "# Make sure that google drive is mounted\n",
        "# Create the folders, if required\n",
        "DATAPATH = '/content/drive/My Drive/DATASETS/'\n",
        "MODELPATH = '/content/drive/My Drive/MODELS/'\n"
      ],
      "execution_count": 0,
      "outputs": []
    },
    {
      "cell_type": "code",
      "metadata": {
        "id": "leYjFF9Vuv8z",
        "colab_type": "code",
        "colab": {}
      },
      "source": [
        "## Set the input hyperparameters\n",
        "num_epochs = 6                 # number of times go through the data\n",
        "num_classes = 10                # number of output classes (MNIST: images of digits from 0 to 9)\n",
        "batch_size = 50                 # number of input/output pairs to use for updating the weights (mini-batch approach)\n",
        "learning_rate = 0.001           # alpha :  w_new = w_old - alpha * dw"
      ],
      "execution_count": 0,
      "outputs": []
    },
    {
      "cell_type": "code",
      "metadata": {
        "id": "SqrBZP4Cwd-S",
        "colab_type": "code",
        "colab": {}
      },
      "source": [
        "# Set the transforms to apply to data\n",
        "trans_list = transforms.Compose([transforms.ToTensor(), transforms.Normalize((0.1307,), (0.3081,))])\n",
        "\n",
        "## Check,if necessary \n",
        "# trans_list"
      ],
      "execution_count": 0,
      "outputs": []
    },
    {
      "cell_type": "code",
      "metadata": {
        "id": "kOxMtj4ov5z4",
        "colab_type": "code",
        "colab": {}
      },
      "source": [
        "# Load the MNIST dataset\n",
        "train_dataset = torchvision.datasets.MNIST(root=DATAPATH, train=True, transform=trans_list, download=True)\n",
        "test_dataset = torchvision.datasets.MNIST(root=DATAPATH, train=False, transform=trans_list, download=False)\n",
        "\n",
        "## You can check the downloaded and transformed data\n",
        "# print(train_dataset)\n",
        "# print(test_dataset)"
      ],
      "execution_count": 0,
      "outputs": []
    },
    {
      "cell_type": "code",
      "metadata": {
        "id": "bWdiZfInwbyj",
        "colab_type": "code",
        "colab": {}
      },
      "source": [
        "## Make the DataLoader\n",
        "train_loader = torch.utils.data.DataLoader(train_dataset, batch_size=batch_size, shuffle=True)\n",
        "test_loader = torch.utils.data.DataLoader(test_dataset, batch_size=batch_size, shuffle=False)\n"
      ],
      "execution_count": 0,
      "outputs": []
    },
    {
      "cell_type": "code",
      "metadata": {
        "id": "FSYI7i7tyhjf",
        "colab_type": "code",
        "colab": {}
      },
      "source": [
        "## Make the CNN network class\n",
        "class ConvNet(nn.Module):\n",
        "\n",
        "  def __init__(self):\n",
        "    ## Make the different layers for the Network\n",
        "    super(ConvNet,self).__init__()\n",
        "    # make 1st convolution layer: 32 channel 5X5 filter --> ReLU activation --> Maxpooling\n",
        "    self.layer1 = nn.Sequential(nn.Conv2d(1, 32, kernel_size=5, stride=1, padding=2),\n",
        "                                nn.ReLU(),\n",
        "                                nn.MaxPool2d(kernel_size=2, stride=2))\n",
        "      \n",
        "    # make 2nd convolution layer: 64 channel 5X5 filter --> ReLU activation --> Maxpooling\n",
        "    self.layer2 = nn.Sequential(nn.Conv2d(32, 64, kernel_size=5, stride=1, padding=2),\n",
        "                                nn.ReLU(),\n",
        "                                nn.MaxPool2d(kernel_size=2, stride=2))\n",
        "      \n",
        "    # define dropout action\n",
        "    self.drop_out = nn.Dropout()      # use default dropout prob. of p=0.5\n",
        "\n",
        "    # make the fully-connected layers\n",
        "    self.fc1 = nn.Linear(7*7*64, 1000)\n",
        "    self.fc2 = nn.Linear(1000, 10)\n",
        "\n",
        "  def forward(self,x):\n",
        "    ## Use the layers to make the complete network\n",
        "    out = self.layer1(x)\n",
        "    out = self.layer2(out)\n",
        "    \n",
        "    # flatten thhe output\n",
        "    out = out.reshape(out.size(0), -1)\n",
        "\n",
        "    out = self.drop_out(out)\n",
        "    out = self.fc1(out)\n",
        "    out = self.fc2(out)\n",
        "\n",
        "    return out"
      ],
      "execution_count": 0,
      "outputs": []
    },
    {
      "cell_type": "code",
      "metadata": {
        "id": "K6h_KWvl2Boe",
        "colab_type": "code",
        "colab": {}
      },
      "source": [
        "# Create the network instance\n",
        "model = ConvNet().to(device)\n",
        "\n",
        "# set the loss-criterion\n",
        "criterion = nn.CrossEntropyLoss()     # Combines the softmax fn and the -inve log-likelihood fn\n",
        "\n",
        "# set the optimizer\n",
        "optimizer = torch.optim.Adam(model.parameters(), lr=learning_rate)"
      ],
      "execution_count": 0,
      "outputs": []
    },
    {
      "cell_type": "code",
      "metadata": {
        "id": "QJUeTzLA276e",
        "colab_type": "code",
        "outputId": "fe39125d-0b44-4a98-d8be-8da5fa38c7a1",
        "colab": {
          "base_uri": "https://localhost:8080/",
          "height": 425
        }
      },
      "source": [
        "# Check the model, criterion and optimizer\n",
        "print(model)\n",
        "print(criterion)\n",
        "print(optimizer)"
      ],
      "execution_count": 0,
      "outputs": [
        {
          "output_type": "stream",
          "text": [
            "ConvNet(\n",
            "  (layer1): Sequential(\n",
            "    (0): Conv2d(1, 32, kernel_size=(5, 5), stride=(1, 1), padding=(2, 2))\n",
            "    (1): ReLU()\n",
            "    (2): MaxPool2d(kernel_size=2, stride=2, padding=0, dilation=1, ceil_mode=False)\n",
            "  )\n",
            "  (layer2): Sequential(\n",
            "    (0): Conv2d(32, 64, kernel_size=(5, 5), stride=(1, 1), padding=(2, 2))\n",
            "    (1): ReLU()\n",
            "    (2): MaxPool2d(kernel_size=2, stride=2, padding=0, dilation=1, ceil_mode=False)\n",
            "  )\n",
            "  (drop_out): Dropout(p=0.5, inplace=False)\n",
            "  (fc1): Linear(in_features=3136, out_features=1000, bias=True)\n",
            "  (fc2): Linear(in_features=1000, out_features=10, bias=True)\n",
            ")\n",
            "CrossEntropyLoss()\n",
            "Adam (\n",
            "Parameter Group 0\n",
            "    amsgrad: False\n",
            "    betas: (0.9, 0.999)\n",
            "    eps: 1e-08\n",
            "    lr: 0.001\n",
            "    weight_decay: 0\n",
            ")\n"
          ],
          "name": "stdout"
        }
      ]
    },
    {
      "cell_type": "code",
      "metadata": {
        "id": "ogu72rAA3F8Y",
        "colab_type": "code",
        "outputId": "728e891b-c92b-44ec-e125-eb9f60ac425e",
        "colab": {
          "base_uri": "https://localhost:8080/",
          "height": 1000
        }
      },
      "source": [
        "## Train the model\n",
        "\n",
        "total_step = len(train_loader)      # number of steps in one epoch \n",
        "loss_list = []                      # list to save the losses\n",
        "acc_list = []                       # list to save and check the accuracy at each step\n",
        "\n",
        "\n",
        "for epoch in range(num_epochs):\n",
        "  for i, (images, labels) in enumerate(train_loader):\n",
        "    \n",
        "    # transfer to GPU if device CUDA\n",
        "    images = images.to(device)\n",
        "    labels = labels.to(device)\n",
        "\n",
        "    # Forward pass\n",
        "    outputs = model(images)\n",
        "    loss = criterion(outputs, labels)\n",
        "    loss_list.append(loss.item())         # .item() loss is a scaler tensor quantity\n",
        "\n",
        "    # Backward pass to optimize and update the weights\n",
        "    optimizer.zero_grad()\n",
        "    loss.backward()\n",
        "    optimizer.step()\n",
        "\n",
        "    # Check the accuracy\n",
        "    total = labels.size(0)                        # as shape (num. of examples, ....)\n",
        "    _, predicted = torch.max(outputs.data,1)      # as .max returns value, index. Here, index corresponds number where value is 1\n",
        "    correct = (predicted == labels).sum().item()\n",
        "    acc_list.append(correct / total)\n",
        "\n",
        "    # print the information at every 100th step\n",
        "    if (i+1) % 100 == 0:\n",
        "      print('Epoch [{}/{}], Step[{}/{}], Loss: {:.4f}, Accuracy: {:.2f}%'\n",
        "            .format(epoch +1, num_epochs, i+1, total_step, loss.item(), (correct / total)*100))\n",
        "\n"
      ],
      "execution_count": 0,
      "outputs": [
        {
          "output_type": "stream",
          "text": [
            "Epoch [1/6], Step[100/1200], Loss: 0.2614, Accuracy: 94.00%\n",
            "Epoch [1/6], Step[200/1200], Loss: 0.2287, Accuracy: 92.00%\n",
            "Epoch [1/6], Step[300/1200], Loss: 0.0875, Accuracy: 98.00%\n",
            "Epoch [1/6], Step[400/1200], Loss: 0.0675, Accuracy: 96.00%\n",
            "Epoch [1/6], Step[500/1200], Loss: 0.1383, Accuracy: 94.00%\n",
            "Epoch [1/6], Step[600/1200], Loss: 0.2320, Accuracy: 94.00%\n",
            "Epoch [1/6], Step[700/1200], Loss: 0.0790, Accuracy: 98.00%\n",
            "Epoch [1/6], Step[800/1200], Loss: 0.0319, Accuracy: 98.00%\n",
            "Epoch [1/6], Step[900/1200], Loss: 0.1234, Accuracy: 96.00%\n",
            "Epoch [1/6], Step[1000/1200], Loss: 0.2010, Accuracy: 98.00%\n",
            "Epoch [1/6], Step[1100/1200], Loss: 0.0339, Accuracy: 100.00%\n",
            "Epoch [1/6], Step[1200/1200], Loss: 0.1690, Accuracy: 94.00%\n",
            "Epoch [2/6], Step[100/1200], Loss: 0.0475, Accuracy: 96.00%\n",
            "Epoch [2/6], Step[200/1200], Loss: 0.2989, Accuracy: 90.00%\n",
            "Epoch [2/6], Step[300/1200], Loss: 0.0804, Accuracy: 98.00%\n",
            "Epoch [2/6], Step[400/1200], Loss: 0.1537, Accuracy: 96.00%\n",
            "Epoch [2/6], Step[500/1200], Loss: 0.0533, Accuracy: 98.00%\n",
            "Epoch [2/6], Step[600/1200], Loss: 0.1394, Accuracy: 92.00%\n",
            "Epoch [2/6], Step[700/1200], Loss: 0.0302, Accuracy: 98.00%\n",
            "Epoch [2/6], Step[800/1200], Loss: 0.0491, Accuracy: 98.00%\n",
            "Epoch [2/6], Step[900/1200], Loss: 0.0696, Accuracy: 98.00%\n",
            "Epoch [2/6], Step[1000/1200], Loss: 0.0311, Accuracy: 100.00%\n",
            "Epoch [2/6], Step[1100/1200], Loss: 0.0957, Accuracy: 96.00%\n",
            "Epoch [2/6], Step[1200/1200], Loss: 0.0512, Accuracy: 96.00%\n",
            "Epoch [3/6], Step[100/1200], Loss: 0.0320, Accuracy: 98.00%\n",
            "Epoch [3/6], Step[200/1200], Loss: 0.0425, Accuracy: 98.00%\n",
            "Epoch [3/6], Step[300/1200], Loss: 0.0078, Accuracy: 100.00%\n",
            "Epoch [3/6], Step[400/1200], Loss: 0.0315, Accuracy: 100.00%\n",
            "Epoch [3/6], Step[500/1200], Loss: 0.1054, Accuracy: 96.00%\n",
            "Epoch [3/6], Step[600/1200], Loss: 0.0880, Accuracy: 96.00%\n",
            "Epoch [3/6], Step[700/1200], Loss: 0.0290, Accuracy: 100.00%\n",
            "Epoch [3/6], Step[800/1200], Loss: 0.1121, Accuracy: 94.00%\n",
            "Epoch [3/6], Step[900/1200], Loss: 0.0758, Accuracy: 98.00%\n",
            "Epoch [3/6], Step[1000/1200], Loss: 0.0448, Accuracy: 98.00%\n",
            "Epoch [3/6], Step[1100/1200], Loss: 0.0506, Accuracy: 98.00%\n",
            "Epoch [3/6], Step[1200/1200], Loss: 0.1982, Accuracy: 94.00%\n",
            "Epoch [4/6], Step[100/1200], Loss: 0.1681, Accuracy: 94.00%\n",
            "Epoch [4/6], Step[200/1200], Loss: 0.0209, Accuracy: 100.00%\n",
            "Epoch [4/6], Step[300/1200], Loss: 0.0204, Accuracy: 100.00%\n",
            "Epoch [4/6], Step[400/1200], Loss: 0.1077, Accuracy: 98.00%\n",
            "Epoch [4/6], Step[500/1200], Loss: 0.0618, Accuracy: 96.00%\n",
            "Epoch [4/6], Step[600/1200], Loss: 0.0145, Accuracy: 100.00%\n",
            "Epoch [4/6], Step[700/1200], Loss: 0.0197, Accuracy: 100.00%\n",
            "Epoch [4/6], Step[800/1200], Loss: 0.0031, Accuracy: 100.00%\n",
            "Epoch [4/6], Step[900/1200], Loss: 0.0216, Accuracy: 100.00%\n",
            "Epoch [4/6], Step[1000/1200], Loss: 0.0341, Accuracy: 98.00%\n",
            "Epoch [4/6], Step[1100/1200], Loss: 0.0387, Accuracy: 98.00%\n",
            "Epoch [4/6], Step[1200/1200], Loss: 0.0243, Accuracy: 100.00%\n",
            "Epoch [5/6], Step[100/1200], Loss: 0.0251, Accuracy: 100.00%\n",
            "Epoch [5/6], Step[200/1200], Loss: 0.2055, Accuracy: 94.00%\n",
            "Epoch [5/6], Step[300/1200], Loss: 0.1863, Accuracy: 98.00%\n",
            "Epoch [5/6], Step[400/1200], Loss: 0.0268, Accuracy: 100.00%\n",
            "Epoch [5/6], Step[500/1200], Loss: 0.0077, Accuracy: 100.00%\n",
            "Epoch [5/6], Step[600/1200], Loss: 0.1537, Accuracy: 90.00%\n",
            "Epoch [5/6], Step[700/1200], Loss: 0.0084, Accuracy: 100.00%\n",
            "Epoch [5/6], Step[800/1200], Loss: 0.0637, Accuracy: 98.00%\n",
            "Epoch [5/6], Step[900/1200], Loss: 0.0751, Accuracy: 98.00%\n",
            "Epoch [5/6], Step[1000/1200], Loss: 0.0329, Accuracy: 98.00%\n",
            "Epoch [5/6], Step[1100/1200], Loss: 0.2059, Accuracy: 94.00%\n",
            "Epoch [5/6], Step[1200/1200], Loss: 0.0328, Accuracy: 98.00%\n",
            "Epoch [6/6], Step[100/1200], Loss: 0.1175, Accuracy: 96.00%\n",
            "Epoch [6/6], Step[200/1200], Loss: 0.0771, Accuracy: 96.00%\n",
            "Epoch [6/6], Step[300/1200], Loss: 0.0358, Accuracy: 98.00%\n",
            "Epoch [6/6], Step[400/1200], Loss: 0.0331, Accuracy: 98.00%\n",
            "Epoch [6/6], Step[500/1200], Loss: 0.0526, Accuracy: 98.00%\n",
            "Epoch [6/6], Step[600/1200], Loss: 0.0114, Accuracy: 100.00%\n",
            "Epoch [6/6], Step[700/1200], Loss: 0.1073, Accuracy: 96.00%\n",
            "Epoch [6/6], Step[800/1200], Loss: 0.0674, Accuracy: 98.00%\n",
            "Epoch [6/6], Step[900/1200], Loss: 0.0914, Accuracy: 98.00%\n",
            "Epoch [6/6], Step[1000/1200], Loss: 0.0348, Accuracy: 98.00%\n",
            "Epoch [6/6], Step[1100/1200], Loss: 0.0309, Accuracy: 100.00%\n",
            "Epoch [6/6], Step[1200/1200], Loss: 0.1418, Accuracy: 98.00%\n"
          ],
          "name": "stdout"
        }
      ]
    },
    {
      "cell_type": "code",
      "metadata": {
        "id": "SMR-WG3T3gZG",
        "colab_type": "code",
        "outputId": "553caf6e-a7eb-4f11-b208-06e69253877b",
        "colab": {
          "base_uri": "https://localhost:8080/",
          "height": 34
        }
      },
      "source": [
        "# Test the model\n",
        "model.eval()      # Freezes batch normalisation, dropout etc \n",
        "with torch.no_grad():\n",
        "  correct = 0\n",
        "  total = 0\n",
        "  for images, labels in test_loader:\n",
        "    images = images.to(device)\n",
        "    labels = labels.to(device)\n",
        "    outputs = model(images)\n",
        "    _, predicted = torch.max(outputs.data, 1)\n",
        "    total += labels.size(0)\n",
        "    correct += (predicted == labels).sum().item()\n",
        "\n",
        "  print('Test Accuracy of the model on the 10000 test images: {} %'.format((correct / total) * 100))"
      ],
      "execution_count": 0,
      "outputs": [
        {
          "output_type": "stream",
          "text": [
            "Test Accuracy of the model on the 10000 test images: 98.97 %\n"
          ],
          "name": "stdout"
        }
      ]
    },
    {
      "cell_type": "code",
      "metadata": {
        "id": "u2IHW4R7_-b0",
        "colab_type": "code",
        "outputId": "ca5e8533-af28-4153-c1c7-1f197f5adeca",
        "colab": {
          "base_uri": "https://localhost:8080/",
          "height": 617
        }
      },
      "source": [
        "# Plot the accuracy and loss\n",
        "p = figure(y_axis_label='Loss', width=850, y_range=(0, 1), title='PyTorch ConvNet results')\n",
        "p.extra_y_ranges = {'Accuracy': Range1d(start=0, end=100)}\n",
        "p.add_layout(LinearAxis(y_range_name='Accuracy', axis_label='Accuracy (%)'), 'right')\n",
        "p.line(np.arange(len(loss_list[0:-1:10])), loss_list[0:-1:10])\n",
        "p.line(np.arange(len(loss_list[0:-1:10])), np.array(acc_list[0:-1:10]) * 100, y_range_name='Accuracy', color='red')\n",
        "show(p)"
      ],
      "execution_count": 0,
      "outputs": [
        {
          "output_type": "display_data",
          "data": {
            "application/javascript": [
              "\n",
              "(function(root) {\n",
              "  function now() {\n",
              "    return new Date();\n",
              "  }\n",
              "\n",
              "  var force = true;\n",
              "\n",
              "  if (typeof root._bokeh_onload_callbacks === \"undefined\" || force === true) {\n",
              "    root._bokeh_onload_callbacks = [];\n",
              "    root._bokeh_is_loading = undefined;\n",
              "  }\n",
              "\n",
              "  var JS_MIME_TYPE = 'application/javascript';\n",
              "  var HTML_MIME_TYPE = 'text/html';\n",
              "  var EXEC_MIME_TYPE = 'application/vnd.bokehjs_exec.v0+json';\n",
              "  var CLASS_NAME = 'output_bokeh rendered_html';\n",
              "\n",
              "  /**\n",
              "   * Render data to the DOM node\n",
              "   */\n",
              "  function render(props, node) {\n",
              "    var script = document.createElement(\"script\");\n",
              "    node.appendChild(script);\n",
              "  }\n",
              "\n",
              "  /**\n",
              "   * Handle when an output is cleared or removed\n",
              "   */\n",
              "  function handleClearOutput(event, handle) {\n",
              "    var cell = handle.cell;\n",
              "\n",
              "    var id = cell.output_area._bokeh_element_id;\n",
              "    var server_id = cell.output_area._bokeh_server_id;\n",
              "    // Clean up Bokeh references\n",
              "    if (id != null && id in Bokeh.index) {\n",
              "      Bokeh.index[id].model.document.clear();\n",
              "      delete Bokeh.index[id];\n",
              "    }\n",
              "\n",
              "    if (server_id !== undefined) {\n",
              "      // Clean up Bokeh references\n",
              "      var cmd = \"from bokeh.io.state import curstate; print(curstate().uuid_to_server['\" + server_id + \"'].get_sessions()[0].document.roots[0]._id)\";\n",
              "      cell.notebook.kernel.execute(cmd, {\n",
              "        iopub: {\n",
              "          output: function(msg) {\n",
              "            var id = msg.content.text.trim();\n",
              "            if (id in Bokeh.index) {\n",
              "              Bokeh.index[id].model.document.clear();\n",
              "              delete Bokeh.index[id];\n",
              "            }\n",
              "          }\n",
              "        }\n",
              "      });\n",
              "      // Destroy server and session\n",
              "      var cmd = \"import bokeh.io.notebook as ion; ion.destroy_server('\" + server_id + \"')\";\n",
              "      cell.notebook.kernel.execute(cmd);\n",
              "    }\n",
              "  }\n",
              "\n",
              "  /**\n",
              "   * Handle when a new output is added\n",
              "   */\n",
              "  function handleAddOutput(event, handle) {\n",
              "    var output_area = handle.output_area;\n",
              "    var output = handle.output;\n",
              "\n",
              "    // limit handleAddOutput to display_data with EXEC_MIME_TYPE content only\n",
              "    if ((output.output_type != \"display_data\") || (!output.data.hasOwnProperty(EXEC_MIME_TYPE))) {\n",
              "      return\n",
              "    }\n",
              "\n",
              "    var toinsert = output_area.element.find(\".\" + CLASS_NAME.split(' ')[0]);\n",
              "\n",
              "    if (output.metadata[EXEC_MIME_TYPE][\"id\"] !== undefined) {\n",
              "      toinsert[toinsert.length - 1].firstChild.textContent = output.data[JS_MIME_TYPE];\n",
              "      // store reference to embed id on output_area\n",
              "      output_area._bokeh_element_id = output.metadata[EXEC_MIME_TYPE][\"id\"];\n",
              "    }\n",
              "    if (output.metadata[EXEC_MIME_TYPE][\"server_id\"] !== undefined) {\n",
              "      var bk_div = document.createElement(\"div\");\n",
              "      bk_div.innerHTML = output.data[HTML_MIME_TYPE];\n",
              "      var script_attrs = bk_div.children[0].attributes;\n",
              "      for (var i = 0; i < script_attrs.length; i++) {\n",
              "        toinsert[toinsert.length - 1].firstChild.setAttribute(script_attrs[i].name, script_attrs[i].value);\n",
              "      }\n",
              "      // store reference to server id on output_area\n",
              "      output_area._bokeh_server_id = output.metadata[EXEC_MIME_TYPE][\"server_id\"];\n",
              "    }\n",
              "  }\n",
              "\n",
              "  function register_renderer(events, OutputArea) {\n",
              "\n",
              "    function append_mime(data, metadata, element) {\n",
              "      // create a DOM node to render to\n",
              "      var toinsert = this.create_output_subarea(\n",
              "        metadata,\n",
              "        CLASS_NAME,\n",
              "        EXEC_MIME_TYPE\n",
              "      );\n",
              "      this.keyboard_manager.register_events(toinsert);\n",
              "      // Render to node\n",
              "      var props = {data: data, metadata: metadata[EXEC_MIME_TYPE]};\n",
              "      render(props, toinsert[toinsert.length - 1]);\n",
              "      element.append(toinsert);\n",
              "      return toinsert\n",
              "    }\n",
              "\n",
              "    /* Handle when an output is cleared or removed */\n",
              "    events.on('clear_output.CodeCell', handleClearOutput);\n",
              "    events.on('delete.Cell', handleClearOutput);\n",
              "\n",
              "    /* Handle when a new output is added */\n",
              "    events.on('output_added.OutputArea', handleAddOutput);\n",
              "\n",
              "    /**\n",
              "     * Register the mime type and append_mime function with output_area\n",
              "     */\n",
              "    OutputArea.prototype.register_mime_type(EXEC_MIME_TYPE, append_mime, {\n",
              "      /* Is output safe? */\n",
              "      safe: true,\n",
              "      /* Index of renderer in `output_area.display_order` */\n",
              "      index: 0\n",
              "    });\n",
              "  }\n",
              "\n",
              "  // register the mime type if in Jupyter Notebook environment and previously unregistered\n",
              "  if (root.Jupyter !== undefined) {\n",
              "    var events = require('base/js/events');\n",
              "    var OutputArea = require('notebook/js/outputarea').OutputArea;\n",
              "\n",
              "    if (OutputArea.prototype.mime_types().indexOf(EXEC_MIME_TYPE) == -1) {\n",
              "      register_renderer(events, OutputArea);\n",
              "    }\n",
              "  }\n",
              "\n",
              "  \n",
              "  if (typeof (root._bokeh_timeout) === \"undefined\" || force === true) {\n",
              "    root._bokeh_timeout = Date.now() + 5000;\n",
              "    root._bokeh_failed_load = false;\n",
              "  }\n",
              "\n",
              "  var NB_LOAD_WARNING = {'data': {'text/html':\n",
              "     \"<div style='background-color: #fdd'>\\n\"+\n",
              "     \"<p>\\n\"+\n",
              "     \"BokehJS does not appear to have successfully loaded. If loading BokehJS from CDN, this \\n\"+\n",
              "     \"may be due to a slow or bad network connection. Possible fixes:\\n\"+\n",
              "     \"</p>\\n\"+\n",
              "     \"<ul>\\n\"+\n",
              "     \"<li>re-rerun `output_notebook()` to attempt to load from CDN again, or</li>\\n\"+\n",
              "     \"<li>use INLINE resources instead, as so:</li>\\n\"+\n",
              "     \"</ul>\\n\"+\n",
              "     \"<code>\\n\"+\n",
              "     \"from bokeh.resources import INLINE\\n\"+\n",
              "     \"output_notebook(resources=INLINE)\\n\"+\n",
              "     \"</code>\\n\"+\n",
              "     \"</div>\"}};\n",
              "\n",
              "  function display_loaded() {\n",
              "    var el = document.getElementById(null);\n",
              "    if (el != null) {\n",
              "      el.textContent = \"BokehJS is loading...\";\n",
              "    }\n",
              "    if (root.Bokeh !== undefined) {\n",
              "      if (el != null) {\n",
              "        el.textContent = \"BokehJS \" + root.Bokeh.version + \" successfully loaded.\";\n",
              "      }\n",
              "    } else if (Date.now() < root._bokeh_timeout) {\n",
              "      setTimeout(display_loaded, 100)\n",
              "    }\n",
              "  }\n",
              "\n",
              "\n",
              "  function run_callbacks() {\n",
              "    try {\n",
              "      root._bokeh_onload_callbacks.forEach(function(callback) {\n",
              "        if (callback != null)\n",
              "          callback();\n",
              "      });\n",
              "    } finally {\n",
              "      delete root._bokeh_onload_callbacks\n",
              "    }\n",
              "    console.debug(\"Bokeh: all callbacks have finished\");\n",
              "  }\n",
              "\n",
              "  function load_libs(css_urls, js_urls, callback) {\n",
              "    if (css_urls == null) css_urls = [];\n",
              "    if (js_urls == null) js_urls = [];\n",
              "\n",
              "    root._bokeh_onload_callbacks.push(callback);\n",
              "    if (root._bokeh_is_loading > 0) {\n",
              "      console.debug(\"Bokeh: BokehJS is being loaded, scheduling callback at\", now());\n",
              "      return null;\n",
              "    }\n",
              "    if (js_urls == null || js_urls.length === 0) {\n",
              "      run_callbacks();\n",
              "      return null;\n",
              "    }\n",
              "    console.debug(\"Bokeh: BokehJS not loaded, scheduling load and callback at\", now());\n",
              "    root._bokeh_is_loading = css_urls.length + js_urls.length;\n",
              "\n",
              "    function on_load() {\n",
              "      root._bokeh_is_loading--;\n",
              "      if (root._bokeh_is_loading === 0) {\n",
              "        console.debug(\"Bokeh: all BokehJS libraries/stylesheets loaded\");\n",
              "        run_callbacks()\n",
              "      }\n",
              "    }\n",
              "\n",
              "    function on_error() {\n",
              "      console.error(\"failed to load \" + url);\n",
              "    }\n",
              "\n",
              "    for (var i = 0; i < css_urls.length; i++) {\n",
              "      var url = css_urls[i];\n",
              "      const element = document.createElement(\"link\");\n",
              "      element.onload = on_load;\n",
              "      element.onerror = on_error;\n",
              "      element.rel = \"stylesheet\";\n",
              "      element.type = \"text/css\";\n",
              "      element.href = url;\n",
              "      console.debug(\"Bokeh: injecting link tag for BokehJS stylesheet: \", url);\n",
              "      document.body.appendChild(element);\n",
              "    }\n",
              "\n",
              "    for (var i = 0; i < js_urls.length; i++) {\n",
              "      var url = js_urls[i];\n",
              "      var element = document.createElement('script');\n",
              "      element.onload = on_load;\n",
              "      element.onerror = on_error;\n",
              "      element.async = false;\n",
              "      element.src = url;\n",
              "      console.debug(\"Bokeh: injecting script tag for BokehJS library: \", url);\n",
              "      document.head.appendChild(element);\n",
              "    }\n",
              "  };\n",
              "\n",
              "  function inject_raw_css(css) {\n",
              "    const element = document.createElement(\"style\");\n",
              "    element.appendChild(document.createTextNode(css));\n",
              "    document.body.appendChild(element);\n",
              "  }\n",
              "\n",
              "  \n",
              "  var js_urls = [\"https://cdn.pydata.org/bokeh/release/bokeh-1.4.0.min.js\", \"https://cdn.pydata.org/bokeh/release/bokeh-widgets-1.4.0.min.js\", \"https://cdn.pydata.org/bokeh/release/bokeh-tables-1.4.0.min.js\", \"https://cdn.pydata.org/bokeh/release/bokeh-gl-1.4.0.min.js\"];\n",
              "  var css_urls = [];\n",
              "  \n",
              "\n",
              "  var inline_js = [\n",
              "    function(Bokeh) {\n",
              "      Bokeh.set_log_level(\"info\");\n",
              "    },\n",
              "    function(Bokeh) {\n",
              "    \n",
              "    \n",
              "    }\n",
              "  ];\n",
              "\n",
              "  function run_inline_js() {\n",
              "    \n",
              "    if (root.Bokeh !== undefined || force === true) {\n",
              "      \n",
              "    for (var i = 0; i < inline_js.length; i++) {\n",
              "      inline_js[i].call(root, root.Bokeh);\n",
              "    }\n",
              "    } else if (Date.now() < root._bokeh_timeout) {\n",
              "      setTimeout(run_inline_js, 100);\n",
              "    } else if (!root._bokeh_failed_load) {\n",
              "      console.log(\"Bokeh: BokehJS failed to load within specified timeout.\");\n",
              "      root._bokeh_failed_load = true;\n",
              "    } else if (force !== true) {\n",
              "      var cell = $(document.getElementById(null)).parents('.cell').data().cell;\n",
              "      cell.output_area.append_execute_result(NB_LOAD_WARNING)\n",
              "    }\n",
              "\n",
              "  }\n",
              "\n",
              "  if (root._bokeh_is_loading === 0) {\n",
              "    console.debug(\"Bokeh: BokehJS loaded, going straight to plotting\");\n",
              "    run_inline_js();\n",
              "  } else {\n",
              "    load_libs(css_urls, js_urls, function() {\n",
              "      console.debug(\"Bokeh: BokehJS plotting callback run at\", now());\n",
              "      run_inline_js();\n",
              "    });\n",
              "  }\n",
              "}(window));"
            ],
            "application/vnd.bokehjs_load.v0+json": "\n(function(root) {\n  function now() {\n    return new Date();\n  }\n\n  var force = true;\n\n  if (typeof root._bokeh_onload_callbacks === \"undefined\" || force === true) {\n    root._bokeh_onload_callbacks = [];\n    root._bokeh_is_loading = undefined;\n  }\n\n  \n\n  \n  if (typeof (root._bokeh_timeout) === \"undefined\" || force === true) {\n    root._bokeh_timeout = Date.now() + 5000;\n    root._bokeh_failed_load = false;\n  }\n\n  var NB_LOAD_WARNING = {'data': {'text/html':\n     \"<div style='background-color: #fdd'>\\n\"+\n     \"<p>\\n\"+\n     \"BokehJS does not appear to have successfully loaded. If loading BokehJS from CDN, this \\n\"+\n     \"may be due to a slow or bad network connection. Possible fixes:\\n\"+\n     \"</p>\\n\"+\n     \"<ul>\\n\"+\n     \"<li>re-rerun `output_notebook()` to attempt to load from CDN again, or</li>\\n\"+\n     \"<li>use INLINE resources instead, as so:</li>\\n\"+\n     \"</ul>\\n\"+\n     \"<code>\\n\"+\n     \"from bokeh.resources import INLINE\\n\"+\n     \"output_notebook(resources=INLINE)\\n\"+\n     \"</code>\\n\"+\n     \"</div>\"}};\n\n  function display_loaded() {\n    var el = document.getElementById(null);\n    if (el != null) {\n      el.textContent = \"BokehJS is loading...\";\n    }\n    if (root.Bokeh !== undefined) {\n      if (el != null) {\n        el.textContent = \"BokehJS \" + root.Bokeh.version + \" successfully loaded.\";\n      }\n    } else if (Date.now() < root._bokeh_timeout) {\n      setTimeout(display_loaded, 100)\n    }\n  }\n\n\n  function run_callbacks() {\n    try {\n      root._bokeh_onload_callbacks.forEach(function(callback) {\n        if (callback != null)\n          callback();\n      });\n    } finally {\n      delete root._bokeh_onload_callbacks\n    }\n    console.debug(\"Bokeh: all callbacks have finished\");\n  }\n\n  function load_libs(css_urls, js_urls, callback) {\n    if (css_urls == null) css_urls = [];\n    if (js_urls == null) js_urls = [];\n\n    root._bokeh_onload_callbacks.push(callback);\n    if (root._bokeh_is_loading > 0) {\n      console.debug(\"Bokeh: BokehJS is being loaded, scheduling callback at\", now());\n      return null;\n    }\n    if (js_urls == null || js_urls.length === 0) {\n      run_callbacks();\n      return null;\n    }\n    console.debug(\"Bokeh: BokehJS not loaded, scheduling load and callback at\", now());\n    root._bokeh_is_loading = css_urls.length + js_urls.length;\n\n    function on_load() {\n      root._bokeh_is_loading--;\n      if (root._bokeh_is_loading === 0) {\n        console.debug(\"Bokeh: all BokehJS libraries/stylesheets loaded\");\n        run_callbacks()\n      }\n    }\n\n    function on_error() {\n      console.error(\"failed to load \" + url);\n    }\n\n    for (var i = 0; i < css_urls.length; i++) {\n      var url = css_urls[i];\n      const element = document.createElement(\"link\");\n      element.onload = on_load;\n      element.onerror = on_error;\n      element.rel = \"stylesheet\";\n      element.type = \"text/css\";\n      element.href = url;\n      console.debug(\"Bokeh: injecting link tag for BokehJS stylesheet: \", url);\n      document.body.appendChild(element);\n    }\n\n    for (var i = 0; i < js_urls.length; i++) {\n      var url = js_urls[i];\n      var element = document.createElement('script');\n      element.onload = on_load;\n      element.onerror = on_error;\n      element.async = false;\n      element.src = url;\n      console.debug(\"Bokeh: injecting script tag for BokehJS library: \", url);\n      document.head.appendChild(element);\n    }\n  };\n\n  function inject_raw_css(css) {\n    const element = document.createElement(\"style\");\n    element.appendChild(document.createTextNode(css));\n    document.body.appendChild(element);\n  }\n\n  \n  var js_urls = [\"https://cdn.pydata.org/bokeh/release/bokeh-1.4.0.min.js\", \"https://cdn.pydata.org/bokeh/release/bokeh-widgets-1.4.0.min.js\", \"https://cdn.pydata.org/bokeh/release/bokeh-tables-1.4.0.min.js\", \"https://cdn.pydata.org/bokeh/release/bokeh-gl-1.4.0.min.js\"];\n  var css_urls = [];\n  \n\n  var inline_js = [\n    function(Bokeh) {\n      Bokeh.set_log_level(\"info\");\n    },\n    function(Bokeh) {\n    \n    \n    }\n  ];\n\n  function run_inline_js() {\n    \n    if (root.Bokeh !== undefined || force === true) {\n      \n    for (var i = 0; i < inline_js.length; i++) {\n      inline_js[i].call(root, root.Bokeh);\n    }\n    } else if (Date.now() < root._bokeh_timeout) {\n      setTimeout(run_inline_js, 100);\n    } else if (!root._bokeh_failed_load) {\n      console.log(\"Bokeh: BokehJS failed to load within specified timeout.\");\n      root._bokeh_failed_load = true;\n    } else if (force !== true) {\n      var cell = $(document.getElementById(null)).parents('.cell').data().cell;\n      cell.output_area.append_execute_result(NB_LOAD_WARNING)\n    }\n\n  }\n\n  if (root._bokeh_is_loading === 0) {\n    console.debug(\"Bokeh: BokehJS loaded, going straight to plotting\");\n    run_inline_js();\n  } else {\n    load_libs(css_urls, js_urls, function() {\n      console.debug(\"Bokeh: BokehJS plotting callback run at\", now());\n      run_inline_js();\n    });\n  }\n}(window));"
          },
          "metadata": {
            "tags": []
          }
        },
        {
          "output_type": "display_data",
          "data": {
            "text/html": [
              "\n",
              "\n",
              "\n",
              "\n",
              "\n",
              "\n",
              "  <div class=\"bk-root\" id=\"a9f74c7a-5d2c-433d-89b7-98fb78a9cce1\" data-root-id=\"1809\"></div>\n"
            ]
          },
          "metadata": {
            "tags": []
          }
        },
        {
          "output_type": "display_data",
          "data": {
            "application/javascript": [
              "(function(root) {\n",
              "  function embed_document(root) {\n",
              "    \n",
              "  var docs_json = {\"77ba9ca6-5394-41ee-89e4-8cb0158821ff\":{\"roots\":{\"references\":[{\"attributes\":{\"below\":[{\"id\":\"1820\",\"type\":\"LinearAxis\"}],\"center\":[{\"id\":\"1824\",\"type\":\"Grid\"},{\"id\":\"1829\",\"type\":\"Grid\"}],\"extra_y_ranges\":{\"Accuracy\":{\"id\":\"1843\",\"type\":\"Range1d\"}},\"left\":[{\"id\":\"1825\",\"type\":\"LinearAxis\"}],\"plot_width\":850,\"renderers\":[{\"id\":\"1848\",\"type\":\"GlyphRenderer\"},{\"id\":\"1853\",\"type\":\"GlyphRenderer\"}],\"right\":[{\"id\":\"1844\",\"type\":\"LinearAxis\"}],\"title\":{\"id\":\"1810\",\"type\":\"Title\"},\"toolbar\":{\"id\":\"1836\",\"type\":\"Toolbar\"},\"x_range\":{\"id\":\"1812\",\"type\":\"DataRange1d\"},\"x_scale\":{\"id\":\"1816\",\"type\":\"LinearScale\"},\"y_range\":{\"id\":\"1814\",\"type\":\"Range1d\"},\"y_scale\":{\"id\":\"1818\",\"type\":\"LinearScale\"}},\"id\":\"1809\",\"subtype\":\"Figure\",\"type\":\"Plot\"},{\"attributes\":{\"data_source\":{\"id\":\"1845\",\"type\":\"ColumnDataSource\"},\"glyph\":{\"id\":\"1846\",\"type\":\"Line\"},\"hover_glyph\":null,\"muted_glyph\":null,\"nonselection_glyph\":{\"id\":\"1847\",\"type\":\"Line\"},\"selection_glyph\":null,\"view\":{\"id\":\"1849\",\"type\":\"CDSView\"}},\"id\":\"1848\",\"type\":\"GlyphRenderer\"},{\"attributes\":{},\"id\":\"1816\",\"type\":\"LinearScale\"},{\"attributes\":{\"source\":{\"id\":\"1845\",\"type\":\"ColumnDataSource\"}},\"id\":\"1849\",\"type\":\"CDSView\"},{\"attributes\":{},\"id\":\"1818\",\"type\":\"LinearScale\"},{\"attributes\":{\"formatter\":{\"id\":\"1896\",\"type\":\"BasicTickFormatter\"},\"ticker\":{\"id\":\"1821\",\"type\":\"BasicTicker\"}},\"id\":\"1820\",\"type\":\"LinearAxis\"},{\"attributes\":{\"line_color\":\"red\",\"x\":{\"field\":\"x\"},\"y\":{\"field\":\"y\"}},\"id\":\"1851\",\"type\":\"Line\"},{\"attributes\":{},\"id\":\"1821\",\"type\":\"BasicTicker\"},{\"attributes\":{\"line_alpha\":0.1,\"line_color\":\"#1f77b4\",\"x\":{\"field\":\"x\"},\"y\":{\"field\":\"y\"}},\"id\":\"1852\",\"type\":\"Line\"},{\"attributes\":{\"ticker\":{\"id\":\"1821\",\"type\":\"BasicTicker\"}},\"id\":\"1824\",\"type\":\"Grid\"},{\"attributes\":{\"callback\":null},\"id\":\"1814\",\"type\":\"Range1d\"},{\"attributes\":{\"data_source\":{\"id\":\"1850\",\"type\":\"ColumnDataSource\"},\"glyph\":{\"id\":\"1851\",\"type\":\"Line\"},\"hover_glyph\":null,\"muted_glyph\":null,\"nonselection_glyph\":{\"id\":\"1852\",\"type\":\"Line\"},\"selection_glyph\":null,\"view\":{\"id\":\"1854\",\"type\":\"CDSView\"},\"y_range_name\":\"Accuracy\"},\"id\":\"1853\",\"type\":\"GlyphRenderer\"},{\"attributes\":{\"axis_label\":\"Loss\",\"formatter\":{\"id\":\"1894\",\"type\":\"BasicTickFormatter\"},\"ticker\":{\"id\":\"1826\",\"type\":\"BasicTicker\"}},\"id\":\"1825\",\"type\":\"LinearAxis\"},{\"attributes\":{\"source\":{\"id\":\"1850\",\"type\":\"ColumnDataSource\"}},\"id\":\"1854\",\"type\":\"CDSView\"},{\"attributes\":{},\"id\":\"1826\",\"type\":\"BasicTicker\"},{\"attributes\":{\"dimension\":1,\"ticker\":{\"id\":\"1826\",\"type\":\"BasicTicker\"}},\"id\":\"1829\",\"type\":\"Grid\"},{\"attributes\":{},\"id\":\"1896\",\"type\":\"BasicTickFormatter\"},{\"attributes\":{\"callback\":null,\"data\":{\"x\":[0,1,2,3,4,5,6,7,8,9,10,11,12,13,14,15,16,17,18,19,20,21,22,23,24,25,26,27,28,29,30,31,32,33,34,35,36,37,38,39,40,41,42,43,44,45,46,47,48,49,50,51,52,53,54,55,56,57,58,59,60,61,62,63,64,65,66,67,68,69,70,71,72,73,74,75,76,77,78,79,80,81,82,83,84,85,86,87,88,89,90,91,92,93,94,95,96,97,98,99,100,101,102,103,104,105,106,107,108,109,110,111,112,113,114,115,116,117,118,119,120,121,122,123,124,125,126,127,128,129,130,131,132,133,134,135,136,137,138,139,140,141,142,143,144,145,146,147,148,149,150,151,152,153,154,155,156,157,158,159,160,161,162,163,164,165,166,167,168,169,170,171,172,173,174,175,176,177,178,179,180,181,182,183,184,185,186,187,188,189,190,191,192,193,194,195,196,197,198,199,200,201,202,203,204,205,206,207,208,209,210,211,212,213,214,215,216,217,218,219,220,221,222,223,224,225,226,227,228,229,230,231,232,233,234,235,236,237,238,239,240,241,242,243,244,245,246,247,248,249,250,251,252,253,254,255,256,257,258,259,260,261,262,263,264,265,266,267,268,269,270,271,272,273,274,275,276,277,278,279,280,281,282,283,284,285,286,287,288,289,290,291,292,293,294,295,296,297,298,299,300,301,302,303,304,305,306,307,308,309,310,311,312,313,314,315,316,317,318,319,320,321,322,323,324,325,326,327,328,329,330,331,332,333,334,335,336,337,338,339,340,341,342,343,344,345,346,347,348,349,350,351,352,353,354,355,356,357,358,359,360,361,362,363,364,365,366,367,368,369,370,371,372,373,374,375,376,377,378,379,380,381,382,383,384,385,386,387,388,389,390,391,392,393,394,395,396,397,398,399,400,401,402,403,404,405,406,407,408,409,410,411,412,413,414,415,416,417,418,419,420,421,422,423,424,425,426,427,428,429,430,431,432,433,434,435,436,437,438,439,440,441,442,443,444,445,446,447,448,449,450,451,452,453,454,455,456,457,458,459,460,461,462,463,464,465,466,467,468,469,470,471,472,473,474,475,476,477,478,479,480,481,482,483,484,485,486,487,488,489,490,491,492,493,494,495,496,497,498,499,500,501,502,503,504,505,506,507,508,509,510,511,512,513,514,515,516,517,518,519,520,521,522,523,524,525,526,527,528,529,530,531,532,533,534,535,536,537,538,539,540,541,542,543,544,545,546,547,548,549,550,551,552,553,554,555,556,557,558,559,560,561,562,563,564,565,566,567,568,569,570,571,572,573,574,575,576,577,578,579,580,581,582,583,584,585,586,587,588,589,590,591,592,593,594,595,596,597,598,599,600,601,602,603,604,605,606,607,608,609,610,611,612,613,614,615,616,617,618,619,620,621,622,623,624,625,626,627,628,629,630,631,632,633,634,635,636,637,638,639,640,641,642,643,644,645,646,647,648,649,650,651,652,653,654,655,656,657,658,659,660,661,662,663,664,665,666,667,668,669,670,671,672,673,674,675,676,677,678,679,680,681,682,683,684,685,686,687,688,689,690,691,692,693,694,695,696,697,698,699,700,701,702,703,704,705,706,707,708,709,710,711,712,713,714,715,716,717,718,719],\"y\":[2.341270685195923,1.8012241125106812,0.7770247459411621,0.41559162735939026,1.120504379272461,0.37412917613983154,0.5184549689292908,0.2915043532848358,0.41009223461151123,0.3562483489513397,0.24654649198055267,0.33771201968193054,0.18579818308353424,0.17899800837039948,0.2264329195022583,0.16906434297561646,0.08357694745063782,0.319060355424881,0.3460145592689514,0.11481745541095734,0.27033233642578125,0.30958259105682373,0.1185404509305954,0.30501776933670044,0.21476814150810242,0.24587656557559967,0.11403883993625641,0.3451193869113922,0.12604516744613647,0.10614237934350967,0.27706480026245117,0.13000215590000153,0.3271593451499939,0.19524839520454407,0.14658354222774506,0.1494113653898239,0.21489782631397247,0.2200821340084076,0.18870249390602112,0.07617074251174927,0.10327903926372528,0.20231758058071136,0.163834348320961,0.07092858105897903,0.08404771983623505,0.06534020602703094,0.05070260167121887,0.1956731230020523,0.3256683051586151,0.1598358303308487,0.09273810684680939,0.05053846538066864,0.09157875925302505,0.24669790267944336,0.11499175429344177,0.12298697233200073,0.41158270835876465,0.18653950095176697,0.0644424557685852,0.0796871930360794,0.030672425404191017,0.04380155727267265,0.07780104875564575,0.04911493882536888,0.15695899724960327,0.36858639121055603,0.1107649877667427,0.20991918444633484,0.07475683093070984,0.258838027715683,0.2080092579126358,0.11073501408100128,0.0733812153339386,0.04375544562935829,0.14345085620880127,0.041020795702934265,0.2059270441532135,0.09512980282306671,0.13518379628658295,0.25440287590026855,0.1434193253517151,0.14235669374465942,0.08915387839078903,0.054924625903367996,0.24074913561344147,0.03134389966726303,0.28804904222488403,0.10386476665735245,0.14699630439281464,0.24729055166244507,0.09118932485580444,0.07155557721853256,0.02845158986747265,0.09518738090991974,0.037209633737802505,0.165843665599823,0.3031083047389984,0.21076571941375732,0.05671585723757744,0.11939482390880585,0.14561700820922852,0.2087569236755371,0.20148490369319916,0.3731057643890381,0.18675614893436432,0.14048358798027039,0.1221434473991394,0.2495105117559433,0.015149526298046112,0.08072122931480408,0.051904164254665375,0.01734999567270279,0.0794815719127655,0.09810339659452438,0.07667547464370728,0.017970075830817223,0.08414994180202484,0.17743417620658875,0.13108506798744202,0.09534981101751328,0.20832660794258118,0.10465917736291885,0.02253684028983116,0.10327987372875214,0.058103591203689575,0.10833989083766937,0.08459752798080444,0.10674998164176941,0.09305161237716675,0.09508160501718521,0.09393822401762009,0.1259215772151947,0.04156250134110451,0.23794078826904297,0.03009786643087864,0.14830446243286133,0.03989645838737488,0.029519643634557724,0.056335143744945526,0.2293228954076767,0.32057321071624756,0.1149686798453331,0.16602851450443268,0.12140419334173203,0.09139429032802582,0.10957407206296921,0.18995662033557892,0.06346827000379562,0.20202410221099854,0.02435068041086197,0.39050403237342834,0.02060842514038086,0.08122983574867249,0.12240450084209442,0.04985186457633972,0.057846564799547195,0.01124478317797184,0.017949581146240234,0.06489980965852737,0.05718570575118065,0.10000135749578476,0.010804958641529083,0.08086387813091278,0.10837214440107346,0.021688757464289665,0.19881083071231842,0.09197361022233963,0.07860220968723297,0.08925552666187286,0.04990130290389061,0.0976245328783989,0.15593837201595306,0.13552343845367432,0.10798566043376923,0.1948358118534088,0.05392279475927353,0.2120760679244995,0.06925593316555023,0.027375640347599983,0.04820498451590538,0.060297898948192596,0.05135302618145943,0.04553329572081566,0.05105593800544739,0.03423929214477539,0.03672005981206894,0.09906108677387238,0.2157447785139084,0.180639386177063,0.0583236888051033,0.07851693779230118,0.02120005525648594,0.47921258211135864,0.07649265229701996,0.049928244203329086,0.06336908042430878,0.08174031227827072,0.12344101816415787,0.19039134681224823,0.04483115300536156,0.1321268230676651,0.01265796646475792,0.023278970271348953,0.05950166657567024,0.09478025138378143,0.21072249114513397,0.24900393187999725,0.03518382087349892,0.04257548227906227,0.04370766505599022,0.20407286286354065,0.09190890192985535,0.05965065583586693,0.20279443264007568,0.08568267524242401,0.09135615080595016,0.04050728678703308,0.11756721138954163,0.19432874023914337,0.026905998587608337,0.1487121284008026,0.24006643891334534,0.040583621710538864,0.1887401044368744,0.11052188277244568,0.15192346274852753,0.23625877499580383,0.024996738880872726,0.02911754697561264,0.073150634765625,0.015245390124619007,0.03367878124117851,0.006695461459457874,0.013052692636847496,0.1441168636083603,0.07884671539068222,0.15263773500919342,0.11918974667787552,0.04383228346705437,0.014268956147134304,0.05054933577775955,0.045746736228466034,0.04476511850953102,0.038440342992544174,0.019570302218198776,0.2864098846912384,0.078895203769207,0.09815730154514313,0.06312493234872818,0.1205253005027771,0.15605099499225616,0.12850233912467957,0.32594525814056396,0.03196697309613228,0.09767064452171326,0.03951180353760719,0.075174979865551,0.13705749809741974,0.13754303753376007,0.08311284333467484,0.02145283669233322,0.14830201864242554,0.020135879516601562,0.11930834501981735,0.05899174511432648,0.2563270330429077,0.037262212485075,0.06118188798427582,0.06216831132769585,0.017326679080724716,0.04254654794931412,0.004079933278262615,0.0413404256105423,0.032867640256881714,0.012845030054450035,0.03164513409137726,0.09420022368431091,0.05862443894147873,0.06848468631505966,0.12650053203105927,0.02995550073683262,0.058222152292728424,0.009739389643073082,0.1272401511669159,0.1911185383796692,0.03318206965923309,0.042094334959983826,0.028813105076551437,0.13605621457099915,0.00418155686929822,0.013651866465806961,0.10815561562776566,0.021576108410954475,0.016482792794704437,0.16309590637683868,0.14102637767791748,0.07017442584037781,0.10454855114221573,0.09513859450817108,0.05369947478175163,0.0725344568490982,0.10482151806354523,0.019569311290979385,0.01605953276157379,0.106330506503582,0.028466500341892242,0.08677060902118683,0.17805874347686768,0.02030288614332676,0.02759525366127491,0.09349365532398224,0.06103471666574478,0.07424081861972809,0.05404692515730858,0.19528904557228088,0.11496683955192566,0.07292717695236206,0.5875349640846252,0.17337200045585632,0.05009610950946808,0.13597118854522705,0.16497671604156494,0.0662822425365448,0.052081070840358734,0.039946720004081726,0.035679664462804794,0.01567690819501877,0.10385997593402863,0.017278442159295082,0.0718650221824646,0.11992321163415909,0.024034595116972923,0.17601090669631958,0.10835950076580048,0.023924026638269424,0.013300590217113495,0.0432095043361187,0.029726076871156693,0.09206961840391159,0.06663534045219421,0.025328578427433968,0.022781115025281906,0.1908152997493744,0.021842345595359802,0.014215192757546902,0.048216525465250015,0.018724245950579643,0.02165760099887848,0.22099989652633667,0.2046603560447693,0.10504671186208725,0.10672090202569962,0.13989190757274628,0.05982758477330208,0.11424820870161057,0.2753254771232605,0.0689556822180748,0.0313030444085598,0.0736457034945488,0.1118016317486763,0.1285974532365799,0.022351369261741638,0.010081786662340164,0.03691249340772629,0.062460433691740036,0.06482213735580444,0.19696323573589325,0.10932168364524841,0.048264674842357635,0.15242980420589447,0.07490787655115128,0.07122078537940979,0.031653355807065964,0.34781524538993835,0.0895024836063385,0.12484350800514221,0.16030550003051758,0.05392193794250488,0.02653086744248867,0.05145183578133583,0.22885273396968842,0.03407297283411026,0.037101153284311295,0.08168340474367142,0.01582072302699089,0.006178894080221653,0.1644342541694641,0.21719080209732056,0.12056782841682434,0.05239672586321831,0.024357538670301437,0.05717861279845238,0.01783554069697857,0.20302732288837433,0.08229872584342957,0.004482517018914223,0.1796937733888626,0.029097843915224075,0.05509347841143608,0.14149849116802216,0.00533326156437397,0.07034989446401596,0.02546418271958828,0.0033752250019460917,0.12067018449306488,0.06481160968542099,0.08567176014184952,0.20137670636177063,0.07610909640789032,0.20170588791370392,0.10282987356185913,0.02112206444144249,0.026851987466216087,0.16481439769268036,0.04452365264296532,0.04741325229406357,0.026162413880228996,0.08320227265357971,0.06766574829816818,0.1827574521303177,0.025505714118480682,0.09774806350469589,0.15941430628299713,0.11130192875862122,0.029975680634379387,0.10850746184587479,0.03644470125436783,0.049726229161024094,0.009748267941176891,0.045260582119226456,0.03228229656815529,0.07302964478731155,0.13935312628746033,0.006533527281135321,0.032109878957271576,0.007602023892104626,0.043957386165857315,0.024561958387494087,0.0234244205057621,0.008994750678539276,0.01997075043618679,0.016488047316670418,0.01409772876650095,0.12260136008262634,0.11187515407800674,0.012289953418076038,0.02206702157855034,0.02009798027575016,0.04744470492005348,0.14829951524734497,0.062099382281303406,0.03182598203420639,0.03388740494847298,0.07052984088659286,0.01748027838766575,0.0026333427522331476,0.09998255968093872,0.0956919863820076,0.14408418536186218,0.027315311133861542,0.31356507539749146,0.0362328439950943,0.029171133413910866,0.01769852638244629,0.08673673868179321,0.012511024251580238,0.0208391472697258,0.11797330528497696,0.11486998200416565,0.1031004786491394,0.14827768504619598,0.13501706719398499,0.03116275742650032,0.09091798961162567,0.13034948706626892,0.024934444576501846,0.028451289981603622,0.0794811025261879,0.1421598494052887,0.05063498392701149,0.08381538093090057,0.23117534816265106,0.013425026088953018,0.004909496288746595,0.0825846791267395,0.1484057754278183,0.04545361548662186,0.22682857513427734,0.03226190432906151,0.06494003534317017,0.06867174804210663,0.08433391898870468,0.08135691285133362,0.11959812790155411,0.03878246247768402,0.09568598121404648,0.10557854920625687,0.04471227526664734,0.00922518689185381,0.07520369440317154,0.004013881552964449,0.029122866690158844,0.15995872020721436,0.009027204476296902,0.201456680893898,0.013370065949857235,0.02653484418988228,0.06505946069955826,0.01638169214129448,0.04064781963825226,0.015849752351641655,0.07421605288982391,0.1037435233592987,0.06176603212952614,0.11949844658374786,0.019271621480584145,0.1539786458015442,0.025120306760072708,0.2839234173297882,0.07978767156600952,0.07468990236520767,0.028310412541031837,0.010949144139885902,0.1510418951511383,0.14551140367984772,0.06097453087568283,0.12786710262298584,0.05357876792550087,0.04778863862156868,0.18256841599941254,0.03951765224337578,0.08000751584768295,0.007775573525577784,0.0056703947484493256,0.18931016325950623,0.008192768320441246,0.24545444548130035,0.025285586714744568,0.014956550672650337,0.0920754075050354,0.08420417457818985,0.06265448778867722,0.09385337680578232,0.03649996593594551,0.08903470635414124,0.09537837654352188,0.03205006569623947,0.034551363438367844,0.03584292531013489,0.009525327943265438,0.02416982688009739,0.12139055877923965,0.004917869344353676,0.014279518276453018,0.0663575828075409,0.03600399196147919,0.03551687300205231,0.07574624568223953,0.09997306764125824,0.019175948575139046,0.13392387330532074,0.11487840861082077,0.0025905799120664597,0.08799750357866287,0.11878176778554916,0.030298957601189613,0.10217056423425674,0.048232004046440125,0.09655807167291641,0.010418214835226536,0.08768320828676224,0.07803597301244736,0.18472597002983093,0.026701707392930984,0.05533863231539726,0.04412251338362694,0.047716427594423294,0.04498406499624252,0.028506392613053322,0.03772011771798134,0.20018303394317627,0.04051760584115982,0.006846780888736248,0.10064659267663956,0.05736909806728363,0.0013836479047313333,0.1341424137353897,0.22483013570308685,0.3179458677768707,0.021964244544506073,0.1167432963848114,0.06284566968679428,0.0038330459501594305,0.08603330701589584,0.046235352754592896,0.13547010719776154,0.09189420938491821,0.18660731613636017,0.12953907251358032,0.05424501374363899,0.014843720942735672,0.043965693563222885,0.019148102030158043,0.02063177153468132,0.006824627052992582,0.01132992748171091,0.031924132257699966,0.05092978477478027,0.14460426568984985,0.08039350807666779,0.3479834794998169,0.1663517951965332,0.13562314212322235,0.059885576367378235,0.12097842991352081,0.1396227329969406,0.005811824928969145,0.06999729573726654,0.15859447419643402,0.04274485632777214,0.0018878174014389515,0.0269619170576334,0.24257177114486694,0.0028593349270522594,0.0016922950744628906,0.016143178567290306,0.07867255061864853,0.09713483601808548,0.13021153211593628,0.01165736187249422,0.08783081918954849,0.022091025486588478,0.01696953736245632,0.042121972888708115,0.004958667792379856,0.13296616077423096,0.018670186400413513,0.017665710300207138,0.0964808538556099,0.0145404152572155,0.013759784400463104,0.18243388831615448,0.13620693981647491,0.14103087782859802,0.09393525868654251,0.03641772270202637,0.05949907377362251,0.10916324704885483,0.013682804070413113,0.18948255479335785,0.03472556173801422,0.09335477650165558,0.023950451985001564,0.037235528230667114,0.06062114238739014,0.00928326603025198,0.16798515617847443,0.04109014570713043,0.017559414729475975,0.013628730550408363,0.06364390254020691,0.01614491455256939,0.02532150223851204,0.2639668583869934,0.11838442087173462,0.011905870400369167,0.007967100478708744,0.0813332349061966,0.07082138955593109,0.11797832697629929,0.14298580586910248,0.0013957405462861061,0.028141450136899948,0.010276174172759056,0.0028259085956960917,0.0036375236231833696,0.089314766228199,0.004651632159948349,0.011440534144639969,0.0074781132861971855,0.029538191854953766,0.10402515530586243,0.14775879681110382,0.0732484683394432,0.07357976585626602,0.05199237912893295,0.07224735617637634,0.017269983887672424,0.11418626457452774,0.046121448278427124,0.08473733812570572,0.05310254171490669,0.11997608095407486,0.02808205597102642,0.06498851627111435,0.022974329069256783,0.09716789424419403,0.018842410296201706,0.051601313054561615,0.007529182359576225,0.07370445877313614,0.0014884090051054955,0.002408351982012391,0.15287357568740845,0.05616307258605957,0.08869174867868423,0.21094079315662384,0.02714577689766884,0.10944642871618271,0.04912124574184418,0.011512365192174911,0.022265929728746414,0.15318937599658966,0.030065584927797318,0.002279434120282531,0.031080322340130806,0.02494061551988125,0.0019892407581210136,0.018146295100450516,0.1206904724240303]},\"selected\":{\"id\":\"1898\",\"type\":\"Selection\"},\"selection_policy\":{\"id\":\"1899\",\"type\":\"UnionRenderers\"}},\"id\":\"1845\",\"type\":\"ColumnDataSource\"},{\"attributes\":{\"active_drag\":\"auto\",\"active_inspect\":\"auto\",\"active_multi\":null,\"active_scroll\":\"auto\",\"active_tap\":\"auto\",\"tools\":[{\"id\":\"1830\",\"type\":\"PanTool\"},{\"id\":\"1831\",\"type\":\"WheelZoomTool\"},{\"id\":\"1832\",\"type\":\"BoxZoomTool\"},{\"id\":\"1833\",\"type\":\"SaveTool\"},{\"id\":\"1834\",\"type\":\"ResetTool\"},{\"id\":\"1835\",\"type\":\"HelpTool\"}]},\"id\":\"1836\",\"type\":\"Toolbar\"},{\"attributes\":{},\"id\":\"1893\",\"type\":\"BasicTicker\"},{\"attributes\":{\"callback\":null,\"data\":{\"x\":[0,1,2,3,4,5,6,7,8,9,10,11,12,13,14,15,16,17,18,19,20,21,22,23,24,25,26,27,28,29,30,31,32,33,34,35,36,37,38,39,40,41,42,43,44,45,46,47,48,49,50,51,52,53,54,55,56,57,58,59,60,61,62,63,64,65,66,67,68,69,70,71,72,73,74,75,76,77,78,79,80,81,82,83,84,85,86,87,88,89,90,91,92,93,94,95,96,97,98,99,100,101,102,103,104,105,106,107,108,109,110,111,112,113,114,115,116,117,118,119,120,121,122,123,124,125,126,127,128,129,130,131,132,133,134,135,136,137,138,139,140,141,142,143,144,145,146,147,148,149,150,151,152,153,154,155,156,157,158,159,160,161,162,163,164,165,166,167,168,169,170,171,172,173,174,175,176,177,178,179,180,181,182,183,184,185,186,187,188,189,190,191,192,193,194,195,196,197,198,199,200,201,202,203,204,205,206,207,208,209,210,211,212,213,214,215,216,217,218,219,220,221,222,223,224,225,226,227,228,229,230,231,232,233,234,235,236,237,238,239,240,241,242,243,244,245,246,247,248,249,250,251,252,253,254,255,256,257,258,259,260,261,262,263,264,265,266,267,268,269,270,271,272,273,274,275,276,277,278,279,280,281,282,283,284,285,286,287,288,289,290,291,292,293,294,295,296,297,298,299,300,301,302,303,304,305,306,307,308,309,310,311,312,313,314,315,316,317,318,319,320,321,322,323,324,325,326,327,328,329,330,331,332,333,334,335,336,337,338,339,340,341,342,343,344,345,346,347,348,349,350,351,352,353,354,355,356,357,358,359,360,361,362,363,364,365,366,367,368,369,370,371,372,373,374,375,376,377,378,379,380,381,382,383,384,385,386,387,388,389,390,391,392,393,394,395,396,397,398,399,400,401,402,403,404,405,406,407,408,409,410,411,412,413,414,415,416,417,418,419,420,421,422,423,424,425,426,427,428,429,430,431,432,433,434,435,436,437,438,439,440,441,442,443,444,445,446,447,448,449,450,451,452,453,454,455,456,457,458,459,460,461,462,463,464,465,466,467,468,469,470,471,472,473,474,475,476,477,478,479,480,481,482,483,484,485,486,487,488,489,490,491,492,493,494,495,496,497,498,499,500,501,502,503,504,505,506,507,508,509,510,511,512,513,514,515,516,517,518,519,520,521,522,523,524,525,526,527,528,529,530,531,532,533,534,535,536,537,538,539,540,541,542,543,544,545,546,547,548,549,550,551,552,553,554,555,556,557,558,559,560,561,562,563,564,565,566,567,568,569,570,571,572,573,574,575,576,577,578,579,580,581,582,583,584,585,586,587,588,589,590,591,592,593,594,595,596,597,598,599,600,601,602,603,604,605,606,607,608,609,610,611,612,613,614,615,616,617,618,619,620,621,622,623,624,625,626,627,628,629,630,631,632,633,634,635,636,637,638,639,640,641,642,643,644,645,646,647,648,649,650,651,652,653,654,655,656,657,658,659,660,661,662,663,664,665,666,667,668,669,670,671,672,673,674,675,676,677,678,679,680,681,682,683,684,685,686,687,688,689,690,691,692,693,694,695,696,697,698,699,700,701,702,703,704,705,706,707,708,709,710,711,712,713,714,715,716,717,718,719],\"y\":{\"__ndarray__\":\"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\",\"dtype\":\"float64\",\"shape\":[720]}},\"selected\":{\"id\":\"1900\",\"type\":\"Selection\"},\"selection_policy\":{\"id\":\"1901\",\"type\":\"UnionRenderers\"}},\"id\":\"1850\",\"type\":\"ColumnDataSource\"},{\"attributes\":{},\"id\":\"1892\",\"type\":\"BasicTickFormatter\"},{\"attributes\":{\"line_color\":\"#1f77b4\",\"x\":{\"field\":\"x\"},\"y\":{\"field\":\"y\"}},\"id\":\"1846\",\"type\":\"Line\"},{\"attributes\":{},\"id\":\"1830\",\"type\":\"PanTool\"},{\"attributes\":{\"callback\":null},\"id\":\"1812\",\"type\":\"DataRange1d\"},{\"attributes\":{},\"id\":\"1894\",\"type\":\"BasicTickFormatter\"},{\"attributes\":{},\"id\":\"1831\",\"type\":\"WheelZoomTool\"},{\"attributes\":{},\"id\":\"1833\",\"type\":\"SaveTool\"},{\"attributes\":{},\"id\":\"1898\",\"type\":\"Selection\"},{\"attributes\":{\"overlay\":{\"id\":\"1902\",\"type\":\"BoxAnnotation\"}},\"id\":\"1832\",\"type\":\"BoxZoomTool\"},{\"attributes\":{},\"id\":\"1899\",\"type\":\"UnionRenderers\"},{\"attributes\":{},\"id\":\"1900\",\"type\":\"Selection\"},{\"attributes\":{},\"id\":\"1834\",\"type\":\"ResetTool\"},{\"attributes\":{},\"id\":\"1901\",\"type\":\"UnionRenderers\"},{\"attributes\":{},\"id\":\"1835\",\"type\":\"HelpTool\"},{\"attributes\":{\"axis_label\":\"Accuracy (%)\",\"formatter\":{\"id\":\"1892\",\"type\":\"BasicTickFormatter\"},\"ticker\":{\"id\":\"1893\",\"type\":\"BasicTicker\"},\"y_range_name\":\"Accuracy\"},\"id\":\"1844\",\"type\":\"LinearAxis\"},{\"attributes\":{\"text\":\"PyTorch ConvNet results\"},\"id\":\"1810\",\"type\":\"Title\"},{\"attributes\":{\"callback\":null,\"end\":100},\"id\":\"1843\",\"type\":\"Range1d\"},{\"attributes\":{\"bottom_units\":\"screen\",\"fill_alpha\":{\"value\":0.5},\"fill_color\":{\"value\":\"lightgrey\"},\"left_units\":\"screen\",\"level\":\"overlay\",\"line_alpha\":{\"value\":1.0},\"line_color\":{\"value\":\"black\"},\"line_dash\":[4,4],\"line_width\":{\"value\":2},\"render_mode\":\"css\",\"right_units\":\"screen\",\"top_units\":\"screen\"},\"id\":\"1902\",\"type\":\"BoxAnnotation\"},{\"attributes\":{\"line_alpha\":0.1,\"line_color\":\"#1f77b4\",\"x\":{\"field\":\"x\"},\"y\":{\"field\":\"y\"}},\"id\":\"1847\",\"type\":\"Line\"}],\"root_ids\":[\"1809\"]},\"title\":\"Bokeh Application\",\"version\":\"1.4.0\"}};\n",
              "  var render_items = [{\"docid\":\"77ba9ca6-5394-41ee-89e4-8cb0158821ff\",\"roots\":{\"1809\":\"a9f74c7a-5d2c-433d-89b7-98fb78a9cce1\"}}];\n",
              "  root.Bokeh.embed.embed_items_notebook(docs_json, render_items);\n",
              "\n",
              "  }\n",
              "  if (root.Bokeh !== undefined) {\n",
              "    embed_document(root);\n",
              "  } else {\n",
              "    var attempts = 0;\n",
              "    var timer = setInterval(function(root) {\n",
              "      if (root.Bokeh !== undefined) {\n",
              "        clearInterval(timer);\n",
              "        embed_document(root);\n",
              "      } else {\n",
              "        attempts++;\n",
              "        if (attempts > 100) {\n",
              "          clearInterval(timer);\n",
              "          console.log(\"Bokeh: ERROR: Unable to run BokehJS code because BokehJS library is missing\");\n",
              "        }\n",
              "      }\n",
              "    }, 10, root)\n",
              "  }\n",
              "})(window);"
            ],
            "application/vnd.bokehjs_exec.v0+json": ""
          },
          "metadata": {
            "tags": [],
            "application/vnd.bokehjs_exec.v0+json": {
              "id": "1809"
            }
          }
        }
      ]
    },
    {
      "cell_type": "code",
      "metadata": {
        "id": "gK9LRoQ4D7wT",
        "colab_type": "code",
        "colab": {}
      },
      "source": [
        "# Save the model checkpoint\n",
        "torch.save(model.state_dict(), MODELPATH + 'model_01_cnn.ckpt')"
      ],
      "execution_count": 0,
      "outputs": []
    },
    {
      "cell_type": "code",
      "metadata": {
        "id": "GsduU5paKB-f",
        "colab_type": "code",
        "colab": {}
      },
      "source": [
        ""
      ],
      "execution_count": 0,
      "outputs": []
    },
    {
      "cell_type": "markdown",
      "metadata": {
        "id": "PL6avSkuKFBf",
        "colab_type": "text"
      },
      "source": [
        "# New Section"
      ]
    }
  ]
}