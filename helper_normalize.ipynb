{
  "nbformat": 4,
  "nbformat_minor": 0,
  "metadata": {
    "colab": {
      "name": "helper_normalize.ipynb",
      "provenance": [],
      "collapsed_sections": [],
      "authorship_tag": "ABX9TyPASMU5pzO0uuxODnW68NSB",
      "include_colab_link": true
    },
    "kernelspec": {
      "name": "python3",
      "display_name": "Python 3"
    }
  },
  "cells": [
    {
      "cell_type": "markdown",
      "metadata": {
        "id": "view-in-github",
        "colab_type": "text"
      },
      "source": [
        "<a href=\"https://colab.research.google.com/github/garg-aayush/Pytorch_Examples/blob/master/helper_normalize.ipynb\" target=\"_parent\"><img src=\"https://colab.research.google.com/assets/colab-badge.svg\" alt=\"Open In Colab\"/></a>"
      ]
    },
    {
      "cell_type": "markdown",
      "metadata": {
        "id": "mKbLIsBgDCub",
        "colab_type": "text"
      },
      "source": [
        "#### Find the mean and std. deviation of different datasets "
      ]
    },
    {
      "cell_type": "code",
      "metadata": {
        "id": "Yyeuurt4--qw",
        "colab_type": "code",
        "colab": {}
      },
      "source": [
        "from torchvision import datasets, transforms\n",
        "from torch.utils.data import DataLoader\n",
        "import numpy"
      ],
      "execution_count": 0,
      "outputs": []
    },
    {
      "cell_type": "code",
      "metadata": {
        "id": "8Y5MiokR_XBW",
        "colab_type": "code",
        "colab": {}
      },
      "source": [
        "# Set the datapath\n",
        "DATAPATH = '/content/drive/My Drive/DATASETS/'\n",
        "\n",
        "# Get the training dataset\n",
        "train_dataset = datasets.MNIST(root=DATAPATH, train=True, transform=transforms.ToTensor(), download=True)"
      ],
      "execution_count": 0,
      "outputs": []
    },
    {
      "cell_type": "code",
      "metadata": {
        "id": "bp-xh2wl_aQu",
        "colab_type": "code",
        "colab": {}
      },
      "source": [
        "# Make the dataloader object\n",
        "train_loader = DataLoader(train_dataset, batch_size=len(train_dataset))\n",
        "\n",
        "# Convert it to numpy array\n",
        "train_arr = next(iter(train_loader))[0].numpy()\n"
      ],
      "execution_count": 0,
      "outputs": []
    },
    {
      "cell_type": "code",
      "metadata": {
        "id": "t21sOKx__fH-",
        "colab_type": "code",
        "colab": {
          "base_uri": "https://localhost:8080/",
          "height": 34
        },
        "outputId": "a16c4519-9c7a-42d7-b2ae-ef85934807a2"
      },
      "source": [
        "# Note the assumed shape of data is (num of egs, color channels, height, width)\n",
        "num_channels = train_arr.shape[1]\n",
        "\n",
        "# Get the mean and std values\n",
        "for i in range(num_channels):\n",
        "  \n",
        "  val_mean = train_arr[:,i,:,:].mean()\n",
        "  val_std = train_arr[:,i,:,:].std()\n",
        "\n",
        "  print('Channel {}: mean = {:.4f}, std. deviation : {:.4f}'.format(i+1, val_mean, val_std))"
      ],
      "execution_count": 51,
      "outputs": [
        {
          "output_type": "stream",
          "text": [
            "Channel 1: mean = 0.1307, std. deviation : 0.3081\n"
          ],
          "name": "stdout"
        }
      ]
    }
  ]
}